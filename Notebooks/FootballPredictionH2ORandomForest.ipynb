{
 "cells": [
  {
   "cell_type": "markdown",
   "metadata": {},
   "source": [
    "# H2O RANDOM FOREST NOTEBOOK"
   ]
  },
  {
   "cell_type": "code",
   "execution_count": 1,
   "metadata": {},
   "outputs": [],
   "source": [
    "## Importing Libraries\n",
    "\n",
    "import numpy as np\n",
    "import pandas as pd\n",
    "import matplotlib.pyplot as plt\n",
    "import h2o\n",
    "import os"
   ]
  },
  {
   "cell_type": "code",
   "execution_count": 2,
   "metadata": {},
   "outputs": [
    {
     "name": "stdout",
     "output_type": "stream",
     "text": [
      "Checking whether there is an H2O instance running at http://localhost:54321 . connected.\n"
     ]
    },
    {
     "data": {
      "text/html": [
       "<div style=\"overflow:auto\"><table style=\"width:50%\"><tr><td>H2O cluster uptime:</td>\n",
       "<td>2 days 15 hours 53 mins</td></tr>\n",
       "<tr><td>H2O cluster timezone:</td>\n",
       "<td>Asia/Kolkata</td></tr>\n",
       "<tr><td>H2O data parsing timezone:</td>\n",
       "<td>UTC</td></tr>\n",
       "<tr><td>H2O cluster version:</td>\n",
       "<td>3.24.0.3</td></tr>\n",
       "<tr><td>H2O cluster version age:</td>\n",
       "<td>12 days </td></tr>\n",
       "<tr><td>H2O cluster name:</td>\n",
       "<td>H2O_from_python_jaskirat_nh6b6k</td></tr>\n",
       "<tr><td>H2O cluster total nodes:</td>\n",
       "<td>1</td></tr>\n",
       "<tr><td>H2O cluster free memory:</td>\n",
       "<td>3.254 Gb</td></tr>\n",
       "<tr><td>H2O cluster total cores:</td>\n",
       "<td>8</td></tr>\n",
       "<tr><td>H2O cluster allowed cores:</td>\n",
       "<td>8</td></tr>\n",
       "<tr><td>H2O cluster status:</td>\n",
       "<td>locked, healthy</td></tr>\n",
       "<tr><td>H2O connection url:</td>\n",
       "<td>http://localhost:54321</td></tr>\n",
       "<tr><td>H2O connection proxy:</td>\n",
       "<td>None</td></tr>\n",
       "<tr><td>H2O internal security:</td>\n",
       "<td>False</td></tr>\n",
       "<tr><td>H2O API Extensions:</td>\n",
       "<td>Amazon S3, XGBoost, Algos, AutoML, Core V3, Core V4</td></tr>\n",
       "<tr><td>Python version:</td>\n",
       "<td>3.7.1 final</td></tr></table></div>"
      ],
      "text/plain": [
       "--------------------------  ---------------------------------------------------\n",
       "H2O cluster uptime:         2 days 15 hours 53 mins\n",
       "H2O cluster timezone:       Asia/Kolkata\n",
       "H2O data parsing timezone:  UTC\n",
       "H2O cluster version:        3.24.0.3\n",
       "H2O cluster version age:    12 days\n",
       "H2O cluster name:           H2O_from_python_jaskirat_nh6b6k\n",
       "H2O cluster total nodes:    1\n",
       "H2O cluster free memory:    3.254 Gb\n",
       "H2O cluster total cores:    8\n",
       "H2O cluster allowed cores:  8\n",
       "H2O cluster status:         locked, healthy\n",
       "H2O connection url:         http://localhost:54321\n",
       "H2O connection proxy:\n",
       "H2O internal security:      False\n",
       "H2O API Extensions:         Amazon S3, XGBoost, Algos, AutoML, Core V3, Core V4\n",
       "Python version:             3.7.1 final\n",
       "--------------------------  ---------------------------------------------------"
      ]
     },
     "metadata": {},
     "output_type": "display_data"
    }
   ],
   "source": [
    "h2o.init(max_mem_size = \"4G\")\n",
    "h2o.remove_all()\n"
   ]
  },
  {
   "cell_type": "code",
   "execution_count": 3,
   "metadata": {},
   "outputs": [],
   "source": [
    "from h2o.estimators.gbm import H2OGradientBoostingEstimator\n",
    "from h2o.estimators.random_forest import H2ORandomForestEstimator\n",
    "\n",
    "dataset = pd.read_csv(\"/Football/train.csv\")"
   ]
  },
  {
   "cell_type": "markdown",
   "metadata": {},
   "source": [
    "## Handling Missing Values"
   ]
  },
  {
   "cell_type": "code",
   "execution_count": 4,
   "metadata": {},
   "outputs": [],
   "source": [
    "## Removing Rows that contain null values\n",
    "\n",
    "dataset = dataset.drop([7082 , 9363 , 11644 , 11645 , 11646 , 12027 , 12408])"
   ]
  },
  {
   "cell_type": "code",
   "execution_count": 5,
   "metadata": {},
   "outputs": [],
   "source": [
    "dataset = dataset.drop([7408 , 11298])"
   ]
  },
  {
   "cell_type": "code",
   "execution_count": 6,
   "metadata": {},
   "outputs": [],
   "source": [
    "## Handling Missing values\n",
    "\n",
    "dataset['HTAG'] = dataset['HTAG'].fillna(1.0)\n",
    "dataset['HTHG'] = dataset['HTHG'].fillna(0.0)"
   ]
  },
  {
   "cell_type": "code",
   "execution_count": 7,
   "metadata": {},
   "outputs": [],
   "source": [
    "dataset = dataset.reset_index(drop = True)"
   ]
  },
  {
   "cell_type": "markdown",
   "metadata": {},
   "source": [
    "## Feature Selection and Feature Extraction"
   ]
  },
  {
   "cell_type": "code",
   "execution_count": 8,
   "metadata": {},
   "outputs": [],
   "source": [
    "## feature Extraction\n",
    "\n",
    "dataset[\"GoalDifference\"] = dataset.apply(lambda x : abs(x.HTHG - x.HTAG) , axis = 1)"
   ]
  },
  {
   "cell_type": "code",
   "execution_count": 9,
   "metadata": {},
   "outputs": [],
   "source": [
    "## Feature Selection\n",
    "\n",
    "dataset = dataset[[\"HomeTeam\" , \"AwayTeam\" , \"HTHG\" , \"HTAG\" , \"HST\" , \"AST\" , \"AC\" , \"HC\" , \"HR\" , \"AR\" , \"league\" , \"GoalDifference\" , \"FTR\"]]"
   ]
  },
  {
   "cell_type": "code",
   "execution_count": 10,
   "metadata": {},
   "outputs": [
    {
     "data": {
      "text/html": [
       "<div>\n",
       "<style scoped>\n",
       "    .dataframe tbody tr th:only-of-type {\n",
       "        vertical-align: middle;\n",
       "    }\n",
       "\n",
       "    .dataframe tbody tr th {\n",
       "        vertical-align: top;\n",
       "    }\n",
       "\n",
       "    .dataframe thead th {\n",
       "        text-align: right;\n",
       "    }\n",
       "</style>\n",
       "<table border=\"1\" class=\"dataframe\">\n",
       "  <thead>\n",
       "    <tr style=\"text-align: right;\">\n",
       "      <th></th>\n",
       "      <th>HomeTeam</th>\n",
       "      <th>AwayTeam</th>\n",
       "      <th>HTHG</th>\n",
       "      <th>HTAG</th>\n",
       "      <th>HST</th>\n",
       "      <th>AST</th>\n",
       "      <th>AC</th>\n",
       "      <th>HC</th>\n",
       "      <th>HR</th>\n",
       "      <th>AR</th>\n",
       "      <th>league</th>\n",
       "      <th>GoalDifference</th>\n",
       "      <th>FTR</th>\n",
       "    </tr>\n",
       "  </thead>\n",
       "  <tbody>\n",
       "    <tr>\n",
       "      <th>0</th>\n",
       "      <td>Wolfsburg</td>\n",
       "      <td>Stuttgart</td>\n",
       "      <td>0.0</td>\n",
       "      <td>0.0</td>\n",
       "      <td>7.0</td>\n",
       "      <td>4.0</td>\n",
       "      <td>3.0</td>\n",
       "      <td>6.0</td>\n",
       "      <td>0.0</td>\n",
       "      <td>0.0</td>\n",
       "      <td>bundesliga</td>\n",
       "      <td>0.0</td>\n",
       "      <td>H</td>\n",
       "    </tr>\n",
       "    <tr>\n",
       "      <th>1</th>\n",
       "      <td>Dortmund</td>\n",
       "      <td>FC Koln</td>\n",
       "      <td>0.0</td>\n",
       "      <td>0.0</td>\n",
       "      <td>11.0</td>\n",
       "      <td>0.0</td>\n",
       "      <td>1.0</td>\n",
       "      <td>16.0</td>\n",
       "      <td>0.0</td>\n",
       "      <td>0.0</td>\n",
       "      <td>bundesliga</td>\n",
       "      <td>0.0</td>\n",
       "      <td>H</td>\n",
       "    </tr>\n",
       "    <tr>\n",
       "      <th>2</th>\n",
       "      <td>Hertha</td>\n",
       "      <td>Hannover</td>\n",
       "      <td>0.0</td>\n",
       "      <td>0.0</td>\n",
       "      <td>4.0</td>\n",
       "      <td>3.0</td>\n",
       "      <td>3.0</td>\n",
       "      <td>5.0</td>\n",
       "      <td>0.0</td>\n",
       "      <td>0.0</td>\n",
       "      <td>bundesliga</td>\n",
       "      <td>0.0</td>\n",
       "      <td>H</td>\n",
       "    </tr>\n",
       "    <tr>\n",
       "      <th>3</th>\n",
       "      <td>Hoffenheim</td>\n",
       "      <td>Bayern Munich</td>\n",
       "      <td>1.0</td>\n",
       "      <td>1.0</td>\n",
       "      <td>1.0</td>\n",
       "      <td>3.0</td>\n",
       "      <td>10.0</td>\n",
       "      <td>3.0</td>\n",
       "      <td>0.0</td>\n",
       "      <td>0.0</td>\n",
       "      <td>bundesliga</td>\n",
       "      <td>0.0</td>\n",
       "      <td>D</td>\n",
       "    </tr>\n",
       "    <tr>\n",
       "      <th>4</th>\n",
       "      <td>Mainz</td>\n",
       "      <td>Leverkusen</td>\n",
       "      <td>1.0</td>\n",
       "      <td>2.0</td>\n",
       "      <td>4.0</td>\n",
       "      <td>7.0</td>\n",
       "      <td>5.0</td>\n",
       "      <td>3.0</td>\n",
       "      <td>0.0</td>\n",
       "      <td>0.0</td>\n",
       "      <td>bundesliga</td>\n",
       "      <td>1.0</td>\n",
       "      <td>D</td>\n",
       "    </tr>\n",
       "  </tbody>\n",
       "</table>\n",
       "</div>"
      ],
      "text/plain": [
       "     HomeTeam       AwayTeam  HTHG  HTAG   HST  AST    AC    HC   HR   AR  \\\n",
       "0   Wolfsburg      Stuttgart   0.0   0.0   7.0  4.0   3.0   6.0  0.0  0.0   \n",
       "1    Dortmund        FC Koln   0.0   0.0  11.0  0.0   1.0  16.0  0.0  0.0   \n",
       "2      Hertha       Hannover   0.0   0.0   4.0  3.0   3.0   5.0  0.0  0.0   \n",
       "3  Hoffenheim  Bayern Munich   1.0   1.0   1.0  3.0  10.0   3.0  0.0  0.0   \n",
       "4       Mainz     Leverkusen   1.0   2.0   4.0  7.0   5.0   3.0  0.0  0.0   \n",
       "\n",
       "       league  GoalDifference FTR  \n",
       "0  bundesliga             0.0   H  \n",
       "1  bundesliga             0.0   H  \n",
       "2  bundesliga             0.0   H  \n",
       "3  bundesliga             0.0   D  \n",
       "4  bundesliga             1.0   D  "
      ]
     },
     "execution_count": 10,
     "metadata": {},
     "output_type": "execute_result"
    }
   ],
   "source": [
    "dataset.head()\n"
   ]
  },
  {
   "cell_type": "markdown",
   "metadata": {},
   "source": [
    "## Training and Response columns"
   ]
  },
  {
   "cell_type": "code",
   "execution_count": 11,
   "metadata": {},
   "outputs": [],
   "source": [
    "training_columns = [\"HomeTeam\" , \"AwayTeam\" , \"HTHG\" , \"HTAG\" , \"HST\" , \"AST\" , \"AC\" , \"HC\" , \"HR\" , \"AR\" , \"league\" , \"GoalDifference\"]\n",
    "response_column = \"FTR\"\n"
   ]
  },
  {
   "cell_type": "markdown",
   "metadata": {},
   "source": [
    "## Here I am inserting my dataframe to H2O cluster."
   ]
  },
  {
   "cell_type": "code",
   "execution_count": 12,
   "metadata": {},
   "outputs": [
    {
     "name": "stdout",
     "output_type": "stream",
     "text": [
      "Parse progress: |█████████████████████████████████████████████████████████| 100%\n"
     ]
    }
   ],
   "source": [
    "## Inserting Dataframe in H2O Cluster\n",
    "\n",
    "df_train = h2o.H2OFrame(dataset)"
   ]
  },
  {
   "cell_type": "markdown",
   "metadata": {},
   "source": [
    "## Splitting Dataset into Train-Test-Validate\n",
    "## Ratio is 80:10:10% "
   ]
  },
  {
   "cell_type": "code",
   "execution_count": 13,
   "metadata": {},
   "outputs": [],
   "source": [
    "## Splitting Dataset into:\n",
    "## 80% Training, 10% Validation and 10% Tetsing sets.\n",
    "train, valid, test = df_train.split_frame([0.8, 0.1], seed=1234)"
   ]
  },
  {
   "cell_type": "code",
   "execution_count": 14,
   "metadata": {},
   "outputs": [
    {
     "name": "stdout",
     "output_type": "stream",
     "text": [
      "gbm Model Build progress: |███████████████████████████████████████████████| 100%\n"
     ]
    }
   ],
   "source": [
    "gbm_v1 = H2OGradientBoostingEstimator(\n",
    "    ntrees=400,\n",
    "    learn_rate=0.2,\n",
    "    max_depth=30,\n",
    "    stopping_tolerance=0.01, #10-fold increase in threshold as defined in rf_v1\n",
    "    stopping_rounds=2,\n",
    "    score_each_iteration=True,\n",
    "    model_id=\"gbm_covType_v2\",\n",
    "    seed=2000000\n",
    ")\n",
    "gbm_v1.train(x=training_columns, y=response_column, training_frame=train, validation_frame=valid)\n",
    "\n"
   ]
  },
  {
   "cell_type": "code",
   "execution_count": 15,
   "metadata": {},
   "outputs": [
    {
     "name": "stdout",
     "output_type": "stream",
     "text": [
      "gbm Model Build progress: |███████████████████████████████████████████████| 100%\n"
     ]
    }
   ],
   "source": [
    "gbm_v2 = H2OGradientBoostingEstimator(\n",
    "    ntrees=600,\n",
    "    learn_rate=0.5,\n",
    "    max_depth=60,\n",
    "    sample_rate=0.7,\n",
    "    col_sample_rate=0.7,\n",
    "    stopping_rounds=2,\n",
    "    stopping_tolerance=0.01, #10-fold increase in threshold as defined in rf_v1\n",
    "    score_each_iteration=True,\n",
    "    \n",
    "    model_id=\"gbm_covType_v3\",\n",
    "    seed=3000000\n",
    ")\n",
    "gbm_v2.train(x=training_columns, y=response_column, training_frame=train, validation_frame=valid)\n",
    "\n"
   ]
  },
  {
   "cell_type": "markdown",
   "metadata": {},
   "source": [
    "## Distributed Random Forest Model"
   ]
  },
  {
   "cell_type": "code",
   "execution_count": 16,
   "metadata": {},
   "outputs": [
    {
     "name": "stdout",
     "output_type": "stream",
     "text": [
      "drf Model Build progress: |███████████████████████████████████████████████| 100%\n"
     ]
    }
   ],
   "source": [
    "## Our Distributed Random Forest Model\n",
    "\n",
    "rf_train = H2ORandomForestEstimator(\n",
    "    model_id=\"rf_covType_v2\",\n",
    "    ntrees=400,\n",
    "   # weights_column ='Severity', \n",
    "    nfolds=2,\n",
    "    keep_cross_validation_predictions=True,\n",
    "    max_depth= 70,\n",
    "    stopping_rounds=1,\n",
    "    stopping_tolerance=0.01,\n",
    "    score_each_iteration=True,\n",
    "    balance_classes = True ,\n",
    "    seed=3000000)\n",
    "rf_train.train(x=training_columns, y=response_column, training_frame=train, validation_frame=valid)"
   ]
  },
  {
   "cell_type": "code",
   "execution_count": 17,
   "metadata": {},
   "outputs": [
    {
     "name": "stdout",
     "output_type": "stream",
     "text": [
      "\n",
      "ModelMetricsMultinomial: drf\n",
      "** Reported on test data. **\n",
      "\n",
      "MSE: 0.2815495753424978\n",
      "RMSE: 0.5306124530601386\n",
      "LogLoss: 1.1434968794808973\n",
      "Mean Per-Class Error: 0.40938982724666495\n",
      "Confusion Matrix: Row labels: Actual class; Column labels: Predicted class\n",
      "\n"
     ]
    },
    {
     "data": {
      "text/html": [
       "<div style=\"overflow:auto\"><table style=\"width:50%\"><tr><td><b>A</b></td>\n",
       "<td><b>D</b></td>\n",
       "<td><b>H</b></td>\n",
       "<td><b>Error</b></td>\n",
       "<td><b>Rate</b></td></tr>\n",
       "<tr><td>229.0</td>\n",
       "<td>63.0</td>\n",
       "<td>70.0</td>\n",
       "<td>0.3674033</td>\n",
       "<td>133 / 362</td></tr>\n",
       "<tr><td>84.0</td>\n",
       "<td>98.0</td>\n",
       "<td>170.0</td>\n",
       "<td>0.7215909</td>\n",
       "<td>254 / 352</td></tr>\n",
       "<tr><td>32.0</td>\n",
       "<td>49.0</td>\n",
       "<td>501.0</td>\n",
       "<td>0.1391753</td>\n",
       "<td>81 / 582</td></tr>\n",
       "<tr><td>345.0</td>\n",
       "<td>210.0</td>\n",
       "<td>741.0</td>\n",
       "<td>0.3611111</td>\n",
       "<td>468 / 1,296</td></tr></table></div>"
      ],
      "text/plain": [
       "A    D    H    Error     Rate\n",
       "---  ---  ---  --------  -----------\n",
       "229  63   70   0.367403  133 / 362\n",
       "84   98   170  0.721591  254 / 352\n",
       "32   49   501  0.139175  81 / 582\n",
       "345  210  741  0.361111  468 / 1,296"
      ]
     },
     "metadata": {},
     "output_type": "display_data"
    },
    {
     "name": "stdout",
     "output_type": "stream",
     "text": [
      "Top-3 Hit Ratios: \n"
     ]
    },
    {
     "data": {
      "text/html": [
       "<div style=\"overflow:auto\"><table style=\"width:50%\"><tr><td><b>k</b></td>\n",
       "<td><b>hit_ratio</b></td></tr>\n",
       "<tr><td>1</td>\n",
       "<td>0.6388889</td></tr>\n",
       "<tr><td>2</td>\n",
       "<td>0.8672839</td></tr>\n",
       "<tr><td>3</td>\n",
       "<td>1.0</td></tr></table></div>"
      ],
      "text/plain": [
       "k    hit_ratio\n",
       "---  -----------\n",
       "1    0.638889\n",
       "2    0.867284\n",
       "3    1"
      ]
     },
     "metadata": {},
     "output_type": "display_data"
    },
    {
     "name": "stdout",
     "output_type": "stream",
     "text": [
      "\n"
     ]
    }
   ],
   "source": [
    "## performance Matrix\n",
    "\n",
    "performance = rf_train.model_performance(test_data=test)\n",
    "print (performance) "
   ]
  },
  {
   "cell_type": "markdown",
   "metadata": {},
   "source": [
    "## Prediction on Test data"
   ]
  },
  {
   "cell_type": "code",
   "execution_count": 18,
   "metadata": {},
   "outputs": [
    {
     "name": "stdout",
     "output_type": "stream",
     "text": [
      "drf prediction progress: |████████████████████████████████████████████████| 100%\n"
     ]
    },
    {
     "data": {
      "text/html": [
       "<table>\n",
       "<thead>\n",
       "<tr><th>predict  </th><th style=\"text-align: right;\">        A</th><th style=\"text-align: right;\">        D</th><th style=\"text-align: right;\">        H</th></tr>\n",
       "</thead>\n",
       "<tbody>\n",
       "<tr><td>A        </td><td style=\"text-align: right;\">0.529242 </td><td style=\"text-align: right;\">0.35387  </td><td style=\"text-align: right;\">0.116888 </td></tr>\n",
       "<tr><td>H        </td><td style=\"text-align: right;\">0.381806 </td><td style=\"text-align: right;\">0.158237 </td><td style=\"text-align: right;\">0.459957 </td></tr>\n",
       "<tr><td>D        </td><td style=\"text-align: right;\">0.0426254</td><td style=\"text-align: right;\">0.816161 </td><td style=\"text-align: right;\">0.141213 </td></tr>\n",
       "<tr><td>H        </td><td style=\"text-align: right;\">0.0780157</td><td style=\"text-align: right;\">0.189688 </td><td style=\"text-align: right;\">0.732297 </td></tr>\n",
       "<tr><td>A        </td><td style=\"text-align: right;\">0.680439 </td><td style=\"text-align: right;\">0.265889 </td><td style=\"text-align: right;\">0.0536719</td></tr>\n",
       "<tr><td>A        </td><td style=\"text-align: right;\">0.694841 </td><td style=\"text-align: right;\">0.190062 </td><td style=\"text-align: right;\">0.115097 </td></tr>\n",
       "<tr><td>H        </td><td style=\"text-align: right;\">0.127947 </td><td style=\"text-align: right;\">0.0999937</td><td style=\"text-align: right;\">0.772059 </td></tr>\n",
       "<tr><td>A        </td><td style=\"text-align: right;\">0.435154 </td><td style=\"text-align: right;\">0.264509 </td><td style=\"text-align: right;\">0.300337 </td></tr>\n",
       "<tr><td>D        </td><td style=\"text-align: right;\">0        </td><td style=\"text-align: right;\">0.925289 </td><td style=\"text-align: right;\">0.0747109</td></tr>\n",
       "<tr><td>H        </td><td style=\"text-align: right;\">0.0880841</td><td style=\"text-align: right;\">0        </td><td style=\"text-align: right;\">0.911916 </td></tr>\n",
       "</tbody>\n",
       "</table>"
      ]
     },
     "metadata": {},
     "output_type": "display_data"
    },
    {
     "name": "stdout",
     "output_type": "stream",
     "text": [
      "\n",
      "predict    0.638889\n",
      "dtype: float64\n"
     ]
    }
   ],
   "source": [
    "## Prediction on Test data\n",
    "\n",
    "final_rf_predictions =rf_train.predict(test[:-1])\n",
    "print (final_rf_predictions)\n",
    "\n",
    "#test set accuracy\n",
    "acc= (final_rf_predictions['predict']==test['FTR']).as_data_frame(use_pandas=True).mean()\n",
    "print (acc)"
   ]
  },
  {
   "cell_type": "markdown",
   "metadata": {},
   "source": [
    "## Saving and Loading H2O Model"
   ]
  },
  {
   "cell_type": "code",
   "execution_count": 20,
   "metadata": {},
   "outputs": [
    {
     "name": "stdout",
     "output_type": "stream",
     "text": [
      "Parse progress: |█████████████████████████████████████████████████████████| 100%\n",
      "drf prediction progress: |████████████████████████████████████████████████| 100%\n"
     ]
    },
    {
     "name": "stderr",
     "output_type": "stream",
     "text": [
      "/anaconda3/lib/python3.7/site-packages/h2o/job.py:69: UserWarning: Test/Validation dataset column 'HomeTeam' has levels not trained on: [Amiens, Benevento, Brighton, Girona, Huddersfield, Spal, Strasbourg]\n",
      "  warnings.warn(w)\n",
      "/anaconda3/lib/python3.7/site-packages/h2o/job.py:69: UserWarning: Test/Validation dataset column 'AwayTeam' has levels not trained on: [Amiens, Benevento, Brighton, Girona, Huddersfield, Spal, Strasbourg]\n",
      "  warnings.warn(w)\n",
      "/anaconda3/lib/python3.7/site-packages/h2o/job.py:69: UserWarning: Test/Validation dataset is missing column 'AC': substituting in a column of NaN\n",
      "  warnings.warn(w)\n",
      "/anaconda3/lib/python3.7/site-packages/h2o/job.py:69: UserWarning: Test/Validation dataset is missing column 'HC': substituting in a column of NaN\n",
      "  warnings.warn(w)\n"
     ]
    },
    {
     "data": {
      "text/html": [
       "<table>\n",
       "<thead>\n",
       "<tr><th>predict  </th><th style=\"text-align: right;\">        A</th><th style=\"text-align: right;\">        D</th><th style=\"text-align: right;\">       H</th></tr>\n",
       "</thead>\n",
       "<tbody>\n",
       "<tr><td>H        </td><td style=\"text-align: right;\">0.0214427</td><td style=\"text-align: right;\">0.019551 </td><td style=\"text-align: right;\">0.959006</td></tr>\n",
       "<tr><td>H        </td><td style=\"text-align: right;\">0        </td><td style=\"text-align: right;\">0.0498117</td><td style=\"text-align: right;\">0.950188</td></tr>\n",
       "<tr><td>D        </td><td style=\"text-align: right;\">0.301205 </td><td style=\"text-align: right;\">0.366175 </td><td style=\"text-align: right;\">0.33262 </td></tr>\n",
       "<tr><td>D        </td><td style=\"text-align: right;\">0.0400809</td><td style=\"text-align: right;\">0.694352 </td><td style=\"text-align: right;\">0.265567</td></tr>\n",
       "<tr><td>H        </td><td style=\"text-align: right;\">0.0876447</td><td style=\"text-align: right;\">0.186462 </td><td style=\"text-align: right;\">0.725893</td></tr>\n",
       "<tr><td>H        </td><td style=\"text-align: right;\">0.0178825</td><td style=\"text-align: right;\">0.211963 </td><td style=\"text-align: right;\">0.770155</td></tr>\n",
       "<tr><td>A        </td><td style=\"text-align: right;\">0.938855 </td><td style=\"text-align: right;\">0.0611447</td><td style=\"text-align: right;\">0       </td></tr>\n",
       "<tr><td>D        </td><td style=\"text-align: right;\">0        </td><td style=\"text-align: right;\">0.683133 </td><td style=\"text-align: right;\">0.316867</td></tr>\n",
       "<tr><td>H        </td><td style=\"text-align: right;\">0.0297246</td><td style=\"text-align: right;\">0.37943  </td><td style=\"text-align: right;\">0.590845</td></tr>\n",
       "<tr><td>A        </td><td style=\"text-align: right;\">0.720403 </td><td style=\"text-align: right;\">0.138284 </td><td style=\"text-align: right;\">0.141313</td></tr>\n",
       "</tbody>\n",
       "</table>"
      ]
     },
     "metadata": {},
     "output_type": "display_data"
    },
    {
     "name": "stdout",
     "output_type": "stream",
     "text": [
      "\n"
     ]
    }
   ],
   "source": [
    "## Saving and Loading H2O model\n",
    "\n",
    "model_path = h2o.save_model(model=rf_train, path=\"/H2OModel/FootballPredictionModel\", force=True)\n",
    "\n",
    "saved_model = h2o.load_model('/H2OModel/FootballPredictionModel/rf_covType_v2')\n",
    "\n",
    "test_dataset = pd.read_csv(\"/Football/test-3.csv\")\n",
    "\n",
    "test_dataset[\"GoalDifference\"] = test_dataset.apply(lambda x : abs(x.HTHG - x.HTAG) , axis = 1)\n",
    "\n",
    "test_dataset = test_dataset[[\"HomeTeam\" , \"AwayTeam\" , \"HTHG\" , \"HTAG\" , \"HS\" , \"AS\" , \"HST\" , \"AST\" , \n",
    "                \"HR\" , \"AR\" , \"league\" , \"GoalDifference\"]]\n",
    "\n",
    "\n",
    "col_dtypes = {'HomeTeam':'string','AwayTeam':'string','HTHG':'numeric','HTAG':'numeric','HS':'numeric','AS':'numeric','HST':'numeric','AST':'numeric','HR':'numeric' , 'AR':'numeric' , 'league':'string' , 'GoalDifference':'numeric'}\n",
    "\n",
    "covtype_df_TEST2 = h2o.H2OFrame(test_dataset,column_types = col_dtypes)\n",
    "\n",
    "final_rf_predictions = saved_model.predict(covtype_df_TEST2)\n",
    "print (final_rf_predictions)\n"
   ]
  },
  {
   "cell_type": "markdown",
   "metadata": {},
   "source": [
    "## Converting predictions to dataframe and concatenating with Test set"
   ]
  },
  {
   "cell_type": "code",
   "execution_count": 21,
   "metadata": {},
   "outputs": [],
   "source": [
    "## Converting Prediction into dataframe\n",
    "\n",
    "h2oFinalPredictions=final_rf_predictions[\"predict\"].as_data_frame()"
   ]
  },
  {
   "cell_type": "code",
   "execution_count": 22,
   "metadata": {},
   "outputs": [
    {
     "name": "stdout",
     "output_type": "stream",
     "text": [
      "        HomeTeam       AwayTeam  HTHG  HTAG  HS  AS  HST  AST  HR  AR  \\\n",
      "0  Bayern Munich     Leverkusen     2     0  13  19    8    4   0   0   \n",
      "1        Hamburg       Augsburg     1     0  11  13    5    1   0   0   \n",
      "2         Hertha      Stuttgart     0     0  10   9    3    2   0   0   \n",
      "3     Hoffenheim  Werder Bremen     0     0  14  11    3    2   0   0   \n",
      "4          Mainz       Hannover     0     0  14   6    6    2   0   0   \n",
      "\n",
      "       league  GoalDifference predict  \n",
      "0  bundesliga               2       H  \n",
      "1  bundesliga               1       H  \n",
      "2  bundesliga               0       D  \n",
      "3  bundesliga               0       D  \n",
      "4  bundesliga               0       H  \n"
     ]
    }
   ],
   "source": [
    "## Concatenating Predicction Column to Test Set Dataframe\n",
    "\n",
    "grps2 = pd.concat([test_dataset , h2oFinalPredictions] , axis = 1,join = 'inner') \n",
    "print (grps2.head())"
   ]
  },
  {
   "cell_type": "code",
   "execution_count": null,
   "metadata": {},
   "outputs": [],
   "source": []
  }
 ],
 "metadata": {
  "kernelspec": {
   "display_name": "Python 3",
   "language": "python",
   "name": "python3"
  },
  "language_info": {
   "codemirror_mode": {
    "name": "ipython",
    "version": 3
   },
   "file_extension": ".py",
   "mimetype": "text/x-python",
   "name": "python",
   "nbconvert_exporter": "python",
   "pygments_lexer": "ipython3",
   "version": "3.8.3"
  }
 },
 "nbformat": 4,
 "nbformat_minor": 4
}
