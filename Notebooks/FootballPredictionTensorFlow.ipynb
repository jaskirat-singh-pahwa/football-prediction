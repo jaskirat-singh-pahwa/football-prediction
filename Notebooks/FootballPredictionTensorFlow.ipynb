{
 "cells": [
  {
   "cell_type": "markdown",
   "metadata": {},
   "source": [
    "# TENSORFLOW NOTEBOOK\n",
    "\n",
    "### Note: I this notebook I am not using much of pre-defined libraries, I tried to code everything manually."
   ]
  },
  {
   "cell_type": "code",
   "execution_count": 1,
   "metadata": {},
   "outputs": [],
   "source": [
    "### Importing Libraries\n",
    "import numpy as np\n",
    "import pandas as pd\n",
    "import matplotlib.pyplot as plt\n",
    "import seaborn as sns\n",
    "%matplotlib inline"
   ]
  },
  {
   "cell_type": "code",
   "execution_count": 2,
   "metadata": {},
   "outputs": [],
   "source": [
    "## Importing dataset as dataframe\n",
    "\n",
    "dataset = pd.read_csv(\"/Football/train.csv\")"
   ]
  },
  {
   "cell_type": "code",
   "execution_count": 3,
   "metadata": {},
   "outputs": [
    {
     "data": {
      "text/html": [
       "<div>\n",
       "<style scoped>\n",
       "    .dataframe tbody tr th:only-of-type {\n",
       "        vertical-align: middle;\n",
       "    }\n",
       "\n",
       "    .dataframe tbody tr th {\n",
       "        vertical-align: top;\n",
       "    }\n",
       "\n",
       "    .dataframe thead th {\n",
       "        text-align: right;\n",
       "    }\n",
       "</style>\n",
       "<table border=\"1\" class=\"dataframe\">\n",
       "  <thead>\n",
       "    <tr style=\"text-align: right;\">\n",
       "      <th></th>\n",
       "      <th>AC</th>\n",
       "      <th>AF</th>\n",
       "      <th>AR</th>\n",
       "      <th>AS</th>\n",
       "      <th>AST</th>\n",
       "      <th>AY</th>\n",
       "      <th>AwayTeam</th>\n",
       "      <th>Date</th>\n",
       "      <th>FTR</th>\n",
       "      <th>HC</th>\n",
       "      <th>HF</th>\n",
       "      <th>HR</th>\n",
       "      <th>HS</th>\n",
       "      <th>HST</th>\n",
       "      <th>HTAG</th>\n",
       "      <th>HTHG</th>\n",
       "      <th>HY</th>\n",
       "      <th>HomeTeam</th>\n",
       "      <th>league</th>\n",
       "    </tr>\n",
       "  </thead>\n",
       "  <tbody>\n",
       "    <tr>\n",
       "      <th>0</th>\n",
       "      <td>3.0</td>\n",
       "      <td>12.0</td>\n",
       "      <td>0.0</td>\n",
       "      <td>14.0</td>\n",
       "      <td>4.0</td>\n",
       "      <td>0.0</td>\n",
       "      <td>Stuttgart</td>\n",
       "      <td>07/08/09</td>\n",
       "      <td>H</td>\n",
       "      <td>6.0</td>\n",
       "      <td>12.0</td>\n",
       "      <td>0.0</td>\n",
       "      <td>13.0</td>\n",
       "      <td>7.0</td>\n",
       "      <td>0.0</td>\n",
       "      <td>0.0</td>\n",
       "      <td>0.0</td>\n",
       "      <td>Wolfsburg</td>\n",
       "      <td>bundesliga</td>\n",
       "    </tr>\n",
       "    <tr>\n",
       "      <th>1</th>\n",
       "      <td>1.0</td>\n",
       "      <td>10.0</td>\n",
       "      <td>0.0</td>\n",
       "      <td>7.0</td>\n",
       "      <td>0.0</td>\n",
       "      <td>1.0</td>\n",
       "      <td>FC Koln</td>\n",
       "      <td>08/08/09</td>\n",
       "      <td>H</td>\n",
       "      <td>16.0</td>\n",
       "      <td>8.0</td>\n",
       "      <td>0.0</td>\n",
       "      <td>24.0</td>\n",
       "      <td>11.0</td>\n",
       "      <td>0.0</td>\n",
       "      <td>0.0</td>\n",
       "      <td>0.0</td>\n",
       "      <td>Dortmund</td>\n",
       "      <td>bundesliga</td>\n",
       "    </tr>\n",
       "    <tr>\n",
       "      <th>2</th>\n",
       "      <td>3.0</td>\n",
       "      <td>20.0</td>\n",
       "      <td>0.0</td>\n",
       "      <td>15.0</td>\n",
       "      <td>3.0</td>\n",
       "      <td>2.0</td>\n",
       "      <td>Hannover</td>\n",
       "      <td>08/08/09</td>\n",
       "      <td>H</td>\n",
       "      <td>5.0</td>\n",
       "      <td>16.0</td>\n",
       "      <td>0.0</td>\n",
       "      <td>10.0</td>\n",
       "      <td>4.0</td>\n",
       "      <td>0.0</td>\n",
       "      <td>0.0</td>\n",
       "      <td>3.0</td>\n",
       "      <td>Hertha</td>\n",
       "      <td>bundesliga</td>\n",
       "    </tr>\n",
       "    <tr>\n",
       "      <th>3</th>\n",
       "      <td>10.0</td>\n",
       "      <td>28.0</td>\n",
       "      <td>0.0</td>\n",
       "      <td>9.0</td>\n",
       "      <td>3.0</td>\n",
       "      <td>2.0</td>\n",
       "      <td>Bayern Munich</td>\n",
       "      <td>08/08/09</td>\n",
       "      <td>D</td>\n",
       "      <td>3.0</td>\n",
       "      <td>10.0</td>\n",
       "      <td>0.0</td>\n",
       "      <td>9.0</td>\n",
       "      <td>1.0</td>\n",
       "      <td>1.0</td>\n",
       "      <td>1.0</td>\n",
       "      <td>0.0</td>\n",
       "      <td>Hoffenheim</td>\n",
       "      <td>bundesliga</td>\n",
       "    </tr>\n",
       "    <tr>\n",
       "      <th>4</th>\n",
       "      <td>5.0</td>\n",
       "      <td>28.0</td>\n",
       "      <td>0.0</td>\n",
       "      <td>13.0</td>\n",
       "      <td>7.0</td>\n",
       "      <td>2.0</td>\n",
       "      <td>Leverkusen</td>\n",
       "      <td>08/08/09</td>\n",
       "      <td>D</td>\n",
       "      <td>3.0</td>\n",
       "      <td>22.0</td>\n",
       "      <td>0.0</td>\n",
       "      <td>8.0</td>\n",
       "      <td>4.0</td>\n",
       "      <td>2.0</td>\n",
       "      <td>1.0</td>\n",
       "      <td>1.0</td>\n",
       "      <td>Mainz</td>\n",
       "      <td>bundesliga</td>\n",
       "    </tr>\n",
       "  </tbody>\n",
       "</table>\n",
       "</div>"
      ],
      "text/plain": [
       "     AC    AF   AR    AS  AST   AY       AwayTeam      Date FTR    HC    HF  \\\n",
       "0   3.0  12.0  0.0  14.0  4.0  0.0      Stuttgart  07/08/09   H   6.0  12.0   \n",
       "1   1.0  10.0  0.0   7.0  0.0  1.0        FC Koln  08/08/09   H  16.0   8.0   \n",
       "2   3.0  20.0  0.0  15.0  3.0  2.0       Hannover  08/08/09   H   5.0  16.0   \n",
       "3  10.0  28.0  0.0   9.0  3.0  2.0  Bayern Munich  08/08/09   D   3.0  10.0   \n",
       "4   5.0  28.0  0.0  13.0  7.0  2.0     Leverkusen  08/08/09   D   3.0  22.0   \n",
       "\n",
       "    HR    HS   HST  HTAG  HTHG   HY    HomeTeam      league  \n",
       "0  0.0  13.0   7.0   0.0   0.0  0.0   Wolfsburg  bundesliga  \n",
       "1  0.0  24.0  11.0   0.0   0.0  0.0    Dortmund  bundesliga  \n",
       "2  0.0  10.0   4.0   0.0   0.0  3.0      Hertha  bundesliga  \n",
       "3  0.0   9.0   1.0   1.0   1.0  0.0  Hoffenheim  bundesliga  \n",
       "4  0.0   8.0   4.0   2.0   1.0  1.0       Mainz  bundesliga  "
      ]
     },
     "execution_count": 3,
     "metadata": {},
     "output_type": "execute_result"
    }
   ],
   "source": [
    "dataset.head()"
   ]
  },
  {
   "cell_type": "code",
   "execution_count": 4,
   "metadata": {},
   "outputs": [
    {
     "name": "stdout",
     "output_type": "stream",
     "text": [
      "<class 'pandas.core.frame.DataFrame'>\n",
      "RangeIndex: 12789 entries, 0 to 12788\n",
      "Data columns (total 19 columns):\n",
      "AC          12780 non-null float64\n",
      "AF          12778 non-null float64\n",
      "AR          12780 non-null float64\n",
      "AS          12780 non-null float64\n",
      "AST         12780 non-null float64\n",
      "AY          12780 non-null float64\n",
      "AwayTeam    12782 non-null object\n",
      "Date        12782 non-null object\n",
      "FTR         12782 non-null object\n",
      "HC          12780 non-null float64\n",
      "HF          12778 non-null float64\n",
      "HR          12780 non-null float64\n",
      "HS          12780 non-null float64\n",
      "HST         12780 non-null float64\n",
      "HTAG        12779 non-null float64\n",
      "HTHG        12779 non-null float64\n",
      "HY          12779 non-null float64\n",
      "HomeTeam    12782 non-null object\n",
      "league      12789 non-null object\n",
      "dtypes: float64(14), object(5)\n",
      "memory usage: 1.9+ MB\n"
     ]
    }
   ],
   "source": [
    "## Checking for null values in dataset\n",
    "dataset.info()"
   ]
  },
  {
   "cell_type": "code",
   "execution_count": 5,
   "metadata": {},
   "outputs": [
    {
     "data": {
      "image/png": "[encoded data removed]",
      "text/plain": [
       "<Figure size 1224x936 with 2 Axes>"
      ]
     },
     "metadata": {
      "needs_background": "light"
     },
     "output_type": "display_data"
    }
   ],
   "source": [
    "## Lets check the correlation between attributes\n",
    "\n",
    "plt.figure(figsize = (17 , 13))\n",
    "sns.set(font_scale=1.2)\n",
    "sns.heatmap(dataset.corr() , annot = True , cbar_kws={\"orientation\": \"vertical\"} , cmap=\"magma\")\n",
    "plt.show()"
   ]
  },
  {
   "cell_type": "code",
   "execution_count": 6,
   "metadata": {},
   "outputs": [
    {
     "data": {
      "text/plain": [
       "<matplotlib.axes._subplots.AxesSubplot at 0x1a17c59128>"
      ]
     },
     "execution_count": 6,
     "metadata": {},
     "output_type": "execute_result"
    },
    {
     "data": {
      "image/png": "[encoded data removed]",
      "text/plain": [
       "<Figure size 576x432 with 1 Axes>"
      ]
     },
     "metadata": {},
     "output_type": "display_data"
    }
   ],
   "source": [
    "## Our dataset is not equal\n",
    "## We have more instances of Home Win so there is possibility that our model will be little bit \n",
    "## biased towards H label.\n",
    "\n",
    "plt.xlabel('Result')\n",
    "plt.ylabel('Number of Instances')\n",
    "\n",
    "plt.title('FTR')\n",
    "plt.grid()\n",
    "\n",
    "dataset[\"FTR\"].value_counts().plot(kind = \"bar\" , figsize = (8 , 6) , grid = True , color = [\"pink\"])"
   ]
  },
  {
   "cell_type": "code",
   "execution_count": 7,
   "metadata": {},
   "outputs": [
    {
     "data": {
      "text/plain": [
       "<matplotlib.axes._subplots.AxesSubplot at 0x1a17f65358>"
      ]
     },
     "execution_count": 7,
     "metadata": {},
     "output_type": "execute_result"
    },
    {
     "data": {
      "image/png": "[encoded data removed]",
      "text/plain": [
       "<Figure size 720x432 with 1 Axes>"
      ]
     },
     "metadata": {},
     "output_type": "display_data"
    }
   ],
   "source": [
    "## As we cam see that Almost every column has NaN values\n",
    "## Total number of rows = 12789\n",
    "## As we can see from dataset.info() that how many non null values we have.\n",
    "\n",
    "plt.xlabel('Features')\n",
    "plt.ylabel('Number of Missing Values')\n",
    "\n",
    "plt.title('Analysis for Missing Values')\n",
    "\n",
    "\n",
    "\n",
    "dataset.isna().sum().plot(kind = \"bar\" , figsize = (10 , 6) , grid = True , color = [\"purple\"] , \n",
    "                          yticks = (np.arange(0, 12, step=1)))\n",
    "\n"
   ]
  },
  {
   "cell_type": "code",
   "execution_count": 8,
   "metadata": {},
   "outputs": [
    {
     "data": {
      "text/html": [
       "<div>\n",
       "<style scoped>\n",
       "    .dataframe tbody tr th:only-of-type {\n",
       "        vertical-align: middle;\n",
       "    }\n",
       "\n",
       "    .dataframe tbody tr th {\n",
       "        vertical-align: top;\n",
       "    }\n",
       "\n",
       "    .dataframe thead th {\n",
       "        text-align: right;\n",
       "    }\n",
       "</style>\n",
       "<table border=\"1\" class=\"dataframe\">\n",
       "  <thead>\n",
       "    <tr style=\"text-align: right;\">\n",
       "      <th></th>\n",
       "      <th>AC</th>\n",
       "      <th>AF</th>\n",
       "      <th>AR</th>\n",
       "      <th>AS</th>\n",
       "      <th>AST</th>\n",
       "      <th>AY</th>\n",
       "      <th>AwayTeam</th>\n",
       "      <th>Date</th>\n",
       "      <th>FTR</th>\n",
       "      <th>HC</th>\n",
       "      <th>HF</th>\n",
       "      <th>HR</th>\n",
       "      <th>HS</th>\n",
       "      <th>HST</th>\n",
       "      <th>HTAG</th>\n",
       "      <th>HTHG</th>\n",
       "      <th>HY</th>\n",
       "      <th>HomeTeam</th>\n",
       "    </tr>\n",
       "  </thead>\n",
       "  <tbody>\n",
       "    <tr>\n",
       "      <th>5620</th>\n",
       "      <td>5.0</td>\n",
       "      <td>NaN</td>\n",
       "      <td>0.0</td>\n",
       "      <td>6.0</td>\n",
       "      <td>3.0</td>\n",
       "      <td>3.0</td>\n",
       "      <td>Marseille</td>\n",
       "      <td>18/09/11</td>\n",
       "      <td>H</td>\n",
       "      <td>3.0</td>\n",
       "      <td>NaN</td>\n",
       "      <td>0.0</td>\n",
       "      <td>10.0</td>\n",
       "      <td>5.0</td>\n",
       "      <td>0.0</td>\n",
       "      <td>2.0</td>\n",
       "      <td>0.0</td>\n",
       "      <td>Lyon</td>\n",
       "    </tr>\n",
       "    <tr>\n",
       "      <th>5733</th>\n",
       "      <td>1.0</td>\n",
       "      <td>NaN</td>\n",
       "      <td>0.0</td>\n",
       "      <td>9.0</td>\n",
       "      <td>3.0</td>\n",
       "      <td>5.0</td>\n",
       "      <td>Nancy</td>\n",
       "      <td>17/12/11</td>\n",
       "      <td>A</td>\n",
       "      <td>8.0</td>\n",
       "      <td>NaN</td>\n",
       "      <td>0.0</td>\n",
       "      <td>9.0</td>\n",
       "      <td>1.0</td>\n",
       "      <td>1.0</td>\n",
       "      <td>0.0</td>\n",
       "      <td>2.0</td>\n",
       "      <td>Caen</td>\n",
       "    </tr>\n",
       "    <tr>\n",
       "      <th>7082</th>\n",
       "      <td>NaN</td>\n",
       "      <td>NaN</td>\n",
       "      <td>NaN</td>\n",
       "      <td>NaN</td>\n",
       "      <td>NaN</td>\n",
       "      <td>NaN</td>\n",
       "      <td>NaN</td>\n",
       "      <td>NaN</td>\n",
       "      <td>NaN</td>\n",
       "      <td>NaN</td>\n",
       "      <td>NaN</td>\n",
       "      <td>NaN</td>\n",
       "      <td>NaN</td>\n",
       "      <td>NaN</td>\n",
       "      <td>NaN</td>\n",
       "      <td>NaN</td>\n",
       "      <td>NaN</td>\n",
       "      <td>NaN</td>\n",
       "    </tr>\n",
       "    <tr>\n",
       "      <th>7408</th>\n",
       "      <td>NaN</td>\n",
       "      <td>NaN</td>\n",
       "      <td>NaN</td>\n",
       "      <td>NaN</td>\n",
       "      <td>NaN</td>\n",
       "      <td>NaN</td>\n",
       "      <td>Lyon</td>\n",
       "      <td>16/04/17</td>\n",
       "      <td>A</td>\n",
       "      <td>NaN</td>\n",
       "      <td>NaN</td>\n",
       "      <td>NaN</td>\n",
       "      <td>NaN</td>\n",
       "      <td>NaN</td>\n",
       "      <td>NaN</td>\n",
       "      <td>NaN</td>\n",
       "      <td>NaN</td>\n",
       "      <td>Bastia</td>\n",
       "    </tr>\n",
       "    <tr>\n",
       "      <th>9363</th>\n",
       "      <td>NaN</td>\n",
       "      <td>NaN</td>\n",
       "      <td>NaN</td>\n",
       "      <td>NaN</td>\n",
       "      <td>NaN</td>\n",
       "      <td>NaN</td>\n",
       "      <td>NaN</td>\n",
       "      <td>NaN</td>\n",
       "      <td>NaN</td>\n",
       "      <td>NaN</td>\n",
       "      <td>NaN</td>\n",
       "      <td>NaN</td>\n",
       "      <td>NaN</td>\n",
       "      <td>NaN</td>\n",
       "      <td>NaN</td>\n",
       "      <td>NaN</td>\n",
       "      <td>NaN</td>\n",
       "      <td>NaN</td>\n",
       "    </tr>\n",
       "    <tr>\n",
       "      <th>11298</th>\n",
       "      <td>NaN</td>\n",
       "      <td>NaN</td>\n",
       "      <td>NaN</td>\n",
       "      <td>NaN</td>\n",
       "      <td>NaN</td>\n",
       "      <td>NaN</td>\n",
       "      <td>Roma</td>\n",
       "      <td>23/09/12</td>\n",
       "      <td>A</td>\n",
       "      <td>NaN</td>\n",
       "      <td>NaN</td>\n",
       "      <td>NaN</td>\n",
       "      <td>NaN</td>\n",
       "      <td>NaN</td>\n",
       "      <td>NaN</td>\n",
       "      <td>NaN</td>\n",
       "      <td>NaN</td>\n",
       "      <td>Cagliari</td>\n",
       "    </tr>\n",
       "    <tr>\n",
       "      <th>11644</th>\n",
       "      <td>NaN</td>\n",
       "      <td>NaN</td>\n",
       "      <td>NaN</td>\n",
       "      <td>NaN</td>\n",
       "      <td>NaN</td>\n",
       "      <td>NaN</td>\n",
       "      <td>NaN</td>\n",
       "      <td>NaN</td>\n",
       "      <td>NaN</td>\n",
       "      <td>NaN</td>\n",
       "      <td>NaN</td>\n",
       "      <td>NaN</td>\n",
       "      <td>NaN</td>\n",
       "      <td>NaN</td>\n",
       "      <td>NaN</td>\n",
       "      <td>NaN</td>\n",
       "      <td>NaN</td>\n",
       "      <td>NaN</td>\n",
       "    </tr>\n",
       "    <tr>\n",
       "      <th>11645</th>\n",
       "      <td>NaN</td>\n",
       "      <td>NaN</td>\n",
       "      <td>NaN</td>\n",
       "      <td>NaN</td>\n",
       "      <td>NaN</td>\n",
       "      <td>NaN</td>\n",
       "      <td>NaN</td>\n",
       "      <td>NaN</td>\n",
       "      <td>NaN</td>\n",
       "      <td>NaN</td>\n",
       "      <td>NaN</td>\n",
       "      <td>NaN</td>\n",
       "      <td>NaN</td>\n",
       "      <td>NaN</td>\n",
       "      <td>NaN</td>\n",
       "      <td>NaN</td>\n",
       "      <td>NaN</td>\n",
       "      <td>NaN</td>\n",
       "    </tr>\n",
       "    <tr>\n",
       "      <th>11646</th>\n",
       "      <td>NaN</td>\n",
       "      <td>NaN</td>\n",
       "      <td>NaN</td>\n",
       "      <td>NaN</td>\n",
       "      <td>NaN</td>\n",
       "      <td>NaN</td>\n",
       "      <td>NaN</td>\n",
       "      <td>NaN</td>\n",
       "      <td>NaN</td>\n",
       "      <td>NaN</td>\n",
       "      <td>NaN</td>\n",
       "      <td>NaN</td>\n",
       "      <td>NaN</td>\n",
       "      <td>NaN</td>\n",
       "      <td>NaN</td>\n",
       "      <td>NaN</td>\n",
       "      <td>NaN</td>\n",
       "      <td>NaN</td>\n",
       "    </tr>\n",
       "    <tr>\n",
       "      <th>11894</th>\n",
       "      <td>5.0</td>\n",
       "      <td>16.0</td>\n",
       "      <td>0.0</td>\n",
       "      <td>10.0</td>\n",
       "      <td>1.0</td>\n",
       "      <td>5.0</td>\n",
       "      <td>Juventus</td>\n",
       "      <td>02/03/15</td>\n",
       "      <td>D</td>\n",
       "      <td>1.0</td>\n",
       "      <td>11.0</td>\n",
       "      <td>1.0</td>\n",
       "      <td>8.0</td>\n",
       "      <td>3.0</td>\n",
       "      <td>0.0</td>\n",
       "      <td>0.0</td>\n",
       "      <td>NaN</td>\n",
       "      <td>Roma</td>\n",
       "    </tr>\n",
       "    <tr>\n",
       "      <th>12027</th>\n",
       "      <td>NaN</td>\n",
       "      <td>NaN</td>\n",
       "      <td>NaN</td>\n",
       "      <td>NaN</td>\n",
       "      <td>NaN</td>\n",
       "      <td>NaN</td>\n",
       "      <td>NaN</td>\n",
       "      <td>NaN</td>\n",
       "      <td>NaN</td>\n",
       "      <td>NaN</td>\n",
       "      <td>NaN</td>\n",
       "      <td>NaN</td>\n",
       "      <td>NaN</td>\n",
       "      <td>NaN</td>\n",
       "      <td>NaN</td>\n",
       "      <td>NaN</td>\n",
       "      <td>NaN</td>\n",
       "      <td>NaN</td>\n",
       "    </tr>\n",
       "    <tr>\n",
       "      <th>12408</th>\n",
       "      <td>NaN</td>\n",
       "      <td>NaN</td>\n",
       "      <td>NaN</td>\n",
       "      <td>NaN</td>\n",
       "      <td>NaN</td>\n",
       "      <td>NaN</td>\n",
       "      <td>NaN</td>\n",
       "      <td>NaN</td>\n",
       "      <td>NaN</td>\n",
       "      <td>NaN</td>\n",
       "      <td>NaN</td>\n",
       "      <td>NaN</td>\n",
       "      <td>NaN</td>\n",
       "      <td>NaN</td>\n",
       "      <td>NaN</td>\n",
       "      <td>NaN</td>\n",
       "      <td>NaN</td>\n",
       "      <td>NaN</td>\n",
       "    </tr>\n",
       "    <tr>\n",
       "      <th>12426</th>\n",
       "      <td>7.0</td>\n",
       "      <td>21.0</td>\n",
       "      <td>0.0</td>\n",
       "      <td>15.0</td>\n",
       "      <td>5.0</td>\n",
       "      <td>2.0</td>\n",
       "      <td>Pescara</td>\n",
       "      <td>28/08/16</td>\n",
       "      <td>A</td>\n",
       "      <td>2.0</td>\n",
       "      <td>12.0</td>\n",
       "      <td>0.0</td>\n",
       "      <td>13.0</td>\n",
       "      <td>3.0</td>\n",
       "      <td>NaN</td>\n",
       "      <td>NaN</td>\n",
       "      <td>2.0</td>\n",
       "      <td>Sassuolo</td>\n",
       "    </tr>\n",
       "  </tbody>\n",
       "</table>\n",
       "</div>"
      ],
      "text/plain": [
       "        AC    AF   AR    AS  AST   AY   AwayTeam      Date  FTR   HC    HF  \\\n",
       "5620   5.0   NaN  0.0   6.0  3.0  3.0  Marseille  18/09/11    H  3.0   NaN   \n",
       "5733   1.0   NaN  0.0   9.0  3.0  5.0      Nancy  17/12/11    A  8.0   NaN   \n",
       "7082   NaN   NaN  NaN   NaN  NaN  NaN        NaN       NaN  NaN  NaN   NaN   \n",
       "7408   NaN   NaN  NaN   NaN  NaN  NaN       Lyon  16/04/17    A  NaN   NaN   \n",
       "9363   NaN   NaN  NaN   NaN  NaN  NaN        NaN       NaN  NaN  NaN   NaN   \n",
       "11298  NaN   NaN  NaN   NaN  NaN  NaN       Roma  23/09/12    A  NaN   NaN   \n",
       "11644  NaN   NaN  NaN   NaN  NaN  NaN        NaN       NaN  NaN  NaN   NaN   \n",
       "11645  NaN   NaN  NaN   NaN  NaN  NaN        NaN       NaN  NaN  NaN   NaN   \n",
       "11646  NaN   NaN  NaN   NaN  NaN  NaN        NaN       NaN  NaN  NaN   NaN   \n",
       "11894  5.0  16.0  0.0  10.0  1.0  5.0   Juventus  02/03/15    D  1.0  11.0   \n",
       "12027  NaN   NaN  NaN   NaN  NaN  NaN        NaN       NaN  NaN  NaN   NaN   \n",
       "12408  NaN   NaN  NaN   NaN  NaN  NaN        NaN       NaN  NaN  NaN   NaN   \n",
       "12426  7.0  21.0  0.0  15.0  5.0  2.0    Pescara  28/08/16    A  2.0  12.0   \n",
       "\n",
       "        HR    HS  HST  HTAG  HTHG   HY  HomeTeam  \n",
       "5620   0.0  10.0  5.0   0.0   2.0  0.0      Lyon  \n",
       "5733   0.0   9.0  1.0   1.0   0.0  2.0      Caen  \n",
       "7082   NaN   NaN  NaN   NaN   NaN  NaN       NaN  \n",
       "7408   NaN   NaN  NaN   NaN   NaN  NaN    Bastia  \n",
       "9363   NaN   NaN  NaN   NaN   NaN  NaN       NaN  \n",
       "11298  NaN   NaN  NaN   NaN   NaN  NaN  Cagliari  \n",
       "11644  NaN   NaN  NaN   NaN   NaN  NaN       NaN  \n",
       "11645  NaN   NaN  NaN   NaN   NaN  NaN       NaN  \n",
       "11646  NaN   NaN  NaN   NaN   NaN  NaN       NaN  \n",
       "11894  1.0   8.0  3.0   0.0   0.0  NaN      Roma  \n",
       "12027  NaN   NaN  NaN   NaN   NaN  NaN       NaN  \n",
       "12408  NaN   NaN  NaN   NaN   NaN  NaN       NaN  \n",
       "12426  0.0  13.0  3.0   NaN   NaN  2.0  Sassuolo  "
      ]
     },
     "execution_count": 8,
     "metadata": {},
     "output_type": "execute_result"
    }
   ],
   "source": [
    "## Lets just see which rows have NaN values\n",
    "\n",
    "null_columns = dataset.columns[dataset.isnull().any()]\n",
    "\n",
    "dataset[dataset.isnull().any(axis=1)][null_columns]"
   ]
  },
  {
   "cell_type": "code",
   "execution_count": 9,
   "metadata": {},
   "outputs": [],
   "source": [
    "## As we can see that rows which are completely empty except league column which \n",
    "## will give us nothing if there is no HomeTeam, AwayTeam, FTR etc.\n",
    "\n",
    "## Indices of almost empty rows are: 7082 , 9363 , 11644 , 11645 , 11646 , 12027 , 12408\n",
    "## So we should drop these rows.\n",
    "\n",
    "dataset = dataset.drop([7082 , 9363 , 11644 , 11645 , 11646 , 12027 , 12408])"
   ]
  },
  {
   "cell_type": "code",
   "execution_count": 10,
   "metadata": {},
   "outputs": [
    {
     "data": {
      "text/html": [
       "<div>\n",
       "<style scoped>\n",
       "    .dataframe tbody tr th:only-of-type {\n",
       "        vertical-align: middle;\n",
       "    }\n",
       "\n",
       "    .dataframe tbody tr th {\n",
       "        vertical-align: top;\n",
       "    }\n",
       "\n",
       "    .dataframe thead th {\n",
       "        text-align: right;\n",
       "    }\n",
       "</style>\n",
       "<table border=\"1\" class=\"dataframe\">\n",
       "  <thead>\n",
       "    <tr style=\"text-align: right;\">\n",
       "      <th></th>\n",
       "      <th>AC</th>\n",
       "      <th>AF</th>\n",
       "      <th>AR</th>\n",
       "      <th>AS</th>\n",
       "      <th>AST</th>\n",
       "      <th>AY</th>\n",
       "      <th>AwayTeam</th>\n",
       "      <th>Date</th>\n",
       "      <th>FTR</th>\n",
       "      <th>HC</th>\n",
       "      <th>HF</th>\n",
       "      <th>HR</th>\n",
       "      <th>HS</th>\n",
       "      <th>HST</th>\n",
       "      <th>HTAG</th>\n",
       "      <th>HTHG</th>\n",
       "      <th>HY</th>\n",
       "      <th>HomeTeam</th>\n",
       "    </tr>\n",
       "  </thead>\n",
       "  <tbody>\n",
       "    <tr>\n",
       "      <th>5620</th>\n",
       "      <td>5.0</td>\n",
       "      <td>NaN</td>\n",
       "      <td>0.0</td>\n",
       "      <td>6.0</td>\n",
       "      <td>3.0</td>\n",
       "      <td>3.0</td>\n",
       "      <td>Marseille</td>\n",
       "      <td>18/09/11</td>\n",
       "      <td>H</td>\n",
       "      <td>3.0</td>\n",
       "      <td>NaN</td>\n",
       "      <td>0.0</td>\n",
       "      <td>10.0</td>\n",
       "      <td>5.0</td>\n",
       "      <td>0.0</td>\n",
       "      <td>2.0</td>\n",
       "      <td>0.0</td>\n",
       "      <td>Lyon</td>\n",
       "    </tr>\n",
       "    <tr>\n",
       "      <th>5733</th>\n",
       "      <td>1.0</td>\n",
       "      <td>NaN</td>\n",
       "      <td>0.0</td>\n",
       "      <td>9.0</td>\n",
       "      <td>3.0</td>\n",
       "      <td>5.0</td>\n",
       "      <td>Nancy</td>\n",
       "      <td>17/12/11</td>\n",
       "      <td>A</td>\n",
       "      <td>8.0</td>\n",
       "      <td>NaN</td>\n",
       "      <td>0.0</td>\n",
       "      <td>9.0</td>\n",
       "      <td>1.0</td>\n",
       "      <td>1.0</td>\n",
       "      <td>0.0</td>\n",
       "      <td>2.0</td>\n",
       "      <td>Caen</td>\n",
       "    </tr>\n",
       "    <tr>\n",
       "      <th>7408</th>\n",
       "      <td>NaN</td>\n",
       "      <td>NaN</td>\n",
       "      <td>NaN</td>\n",
       "      <td>NaN</td>\n",
       "      <td>NaN</td>\n",
       "      <td>NaN</td>\n",
       "      <td>Lyon</td>\n",
       "      <td>16/04/17</td>\n",
       "      <td>A</td>\n",
       "      <td>NaN</td>\n",
       "      <td>NaN</td>\n",
       "      <td>NaN</td>\n",
       "      <td>NaN</td>\n",
       "      <td>NaN</td>\n",
       "      <td>NaN</td>\n",
       "      <td>NaN</td>\n",
       "      <td>NaN</td>\n",
       "      <td>Bastia</td>\n",
       "    </tr>\n",
       "    <tr>\n",
       "      <th>11298</th>\n",
       "      <td>NaN</td>\n",
       "      <td>NaN</td>\n",
       "      <td>NaN</td>\n",
       "      <td>NaN</td>\n",
       "      <td>NaN</td>\n",
       "      <td>NaN</td>\n",
       "      <td>Roma</td>\n",
       "      <td>23/09/12</td>\n",
       "      <td>A</td>\n",
       "      <td>NaN</td>\n",
       "      <td>NaN</td>\n",
       "      <td>NaN</td>\n",
       "      <td>NaN</td>\n",
       "      <td>NaN</td>\n",
       "      <td>NaN</td>\n",
       "      <td>NaN</td>\n",
       "      <td>NaN</td>\n",
       "      <td>Cagliari</td>\n",
       "    </tr>\n",
       "    <tr>\n",
       "      <th>11894</th>\n",
       "      <td>5.0</td>\n",
       "      <td>16.0</td>\n",
       "      <td>0.0</td>\n",
       "      <td>10.0</td>\n",
       "      <td>1.0</td>\n",
       "      <td>5.0</td>\n",
       "      <td>Juventus</td>\n",
       "      <td>02/03/15</td>\n",
       "      <td>D</td>\n",
       "      <td>1.0</td>\n",
       "      <td>11.0</td>\n",
       "      <td>1.0</td>\n",
       "      <td>8.0</td>\n",
       "      <td>3.0</td>\n",
       "      <td>0.0</td>\n",
       "      <td>0.0</td>\n",
       "      <td>NaN</td>\n",
       "      <td>Roma</td>\n",
       "    </tr>\n",
       "    <tr>\n",
       "      <th>12426</th>\n",
       "      <td>7.0</td>\n",
       "      <td>21.0</td>\n",
       "      <td>0.0</td>\n",
       "      <td>15.0</td>\n",
       "      <td>5.0</td>\n",
       "      <td>2.0</td>\n",
       "      <td>Pescara</td>\n",
       "      <td>28/08/16</td>\n",
       "      <td>A</td>\n",
       "      <td>2.0</td>\n",
       "      <td>12.0</td>\n",
       "      <td>0.0</td>\n",
       "      <td>13.0</td>\n",
       "      <td>3.0</td>\n",
       "      <td>NaN</td>\n",
       "      <td>NaN</td>\n",
       "      <td>2.0</td>\n",
       "      <td>Sassuolo</td>\n",
       "    </tr>\n",
       "  </tbody>\n",
       "</table>\n",
       "</div>"
      ],
      "text/plain": [
       "        AC    AF   AR    AS  AST   AY   AwayTeam      Date FTR   HC    HF  \\\n",
       "5620   5.0   NaN  0.0   6.0  3.0  3.0  Marseille  18/09/11   H  3.0   NaN   \n",
       "5733   1.0   NaN  0.0   9.0  3.0  5.0      Nancy  17/12/11   A  8.0   NaN   \n",
       "7408   NaN   NaN  NaN   NaN  NaN  NaN       Lyon  16/04/17   A  NaN   NaN   \n",
       "11298  NaN   NaN  NaN   NaN  NaN  NaN       Roma  23/09/12   A  NaN   NaN   \n",
       "11894  5.0  16.0  0.0  10.0  1.0  5.0   Juventus  02/03/15   D  1.0  11.0   \n",
       "12426  7.0  21.0  0.0  15.0  5.0  2.0    Pescara  28/08/16   A  2.0  12.0   \n",
       "\n",
       "        HR    HS  HST  HTAG  HTHG   HY  HomeTeam  \n",
       "5620   0.0  10.0  5.0   0.0   2.0  0.0      Lyon  \n",
       "5733   0.0   9.0  1.0   1.0   0.0  2.0      Caen  \n",
       "7408   NaN   NaN  NaN   NaN   NaN  NaN    Bastia  \n",
       "11298  NaN   NaN  NaN   NaN   NaN  NaN  Cagliari  \n",
       "11894  1.0   8.0  3.0   0.0   0.0  NaN      Roma  \n",
       "12426  0.0  13.0  3.0   NaN   NaN  2.0  Sassuolo  "
      ]
     },
     "execution_count": 10,
     "metadata": {},
     "output_type": "execute_result"
    }
   ],
   "source": [
    "## Now checking again for rows ccontaing NaN values\n",
    "dataset[dataset.isnull().any(axis=1)][null_columns]"
   ]
  },
  {
   "cell_type": "code",
   "execution_count": 11,
   "metadata": {},
   "outputs": [],
   "source": [
    "## We can see that row numbers(index label) 7408 and 11298 contains only HomeTeam, AwayTeam and Date values.\n",
    "## We are dropping that too\n",
    "\n",
    "## Also we are not using AF and HF so row numbers(index label) 5620 and 5733 won't bother us.\n",
    "## We are also not considering HY so row numbers(index label) 11894 won't bother us.\n",
    "\n",
    "## for index label 12426 HTAG and HTHG are Null, since the FTR is A that means that there is a possibility that \n",
    "## in half time AwayTeam goals are more than HomeTeam, But it is also possible that the HomeTeam Sccored well \n",
    "## in the second half, To be fair with our model lets assign both 0.0 and 0.0\n",
    "\n",
    "dataset = dataset.drop([7408 , 11298])\n",
    "dataset['HTAG'] = dataset['HTAG'].fillna(0.0)\n",
    "dataset['HTHG'] = dataset['HTHG'].fillna(0.0)\n",
    "dataset = dataset.reset_index(drop = True)"
   ]
  },
  {
   "cell_type": "markdown",
   "metadata": {},
   "source": [
    "## Fetaure Selection and Fetaure Extraction"
   ]
  },
  {
   "cell_type": "code",
   "execution_count": 12,
   "metadata": {},
   "outputs": [],
   "source": [
    "## Feature Extraction:\n",
    "## I am creating one more feature from already existing features named GoalDifference.\n",
    "## GoalDifference is the ccolumn that contains absolute value of difference between HTAG and HTHG.\n",
    "## If the GoalDifference is 0 then there is a high possibility that match can be draw.\n",
    "## If its not empty then maybe we will get one winner.\n",
    "\n",
    "dataset[\"GoalDifference\"] = dataset.apply(lambda x : abs(x.HTHG - x.HTAG) , axis = 1)"
   ]
  },
  {
   "cell_type": "code",
   "execution_count": 13,
   "metadata": {},
   "outputs": [],
   "source": [
    "## Feature Selection\n",
    "\n",
    "## Features that we are considering are:\n",
    "## HomeTeam , AwayTeam , HTHG , HTAG , HS , AS , HST , AST , HC , AC , HR , AR , league and GoalDifference\n",
    "dataset = dataset[[\"HomeTeam\" , \"AwayTeam\" , \"HTHG\" , \"HTAG\" , \"HS\" , \"AS\" , \"HST\" , \"AST\" , \n",
    "                   \"AC\" , \"HC\" , \"HR\" , \"AR\" , \"league\" , \"GoalDifference\" , \"FTR\"]]"
   ]
  },
  {
   "cell_type": "code",
   "execution_count": 14,
   "metadata": {},
   "outputs": [
    {
     "data": {
      "text/html": [
       "<div>\n",
       "<style scoped>\n",
       "    .dataframe tbody tr th:only-of-type {\n",
       "        vertical-align: middle;\n",
       "    }\n",
       "\n",
       "    .dataframe tbody tr th {\n",
       "        vertical-align: top;\n",
       "    }\n",
       "\n",
       "    .dataframe thead th {\n",
       "        text-align: right;\n",
       "    }\n",
       "</style>\n",
       "<table border=\"1\" class=\"dataframe\">\n",
       "  <thead>\n",
       "    <tr style=\"text-align: right;\">\n",
       "      <th></th>\n",
       "      <th>HomeTeam</th>\n",
       "      <th>AwayTeam</th>\n",
       "      <th>HTHG</th>\n",
       "      <th>HTAG</th>\n",
       "      <th>HS</th>\n",
       "      <th>AS</th>\n",
       "      <th>HST</th>\n",
       "      <th>AST</th>\n",
       "      <th>AC</th>\n",
       "      <th>HC</th>\n",
       "      <th>HR</th>\n",
       "      <th>AR</th>\n",
       "      <th>league</th>\n",
       "      <th>GoalDifference</th>\n",
       "      <th>FTR</th>\n",
       "    </tr>\n",
       "  </thead>\n",
       "  <tbody>\n",
       "    <tr>\n",
       "      <th>0</th>\n",
       "      <td>Wolfsburg</td>\n",
       "      <td>Stuttgart</td>\n",
       "      <td>0.0</td>\n",
       "      <td>0.0</td>\n",
       "      <td>13.0</td>\n",
       "      <td>14.0</td>\n",
       "      <td>7.0</td>\n",
       "      <td>4.0</td>\n",
       "      <td>3.0</td>\n",
       "      <td>6.0</td>\n",
       "      <td>0.0</td>\n",
       "      <td>0.0</td>\n",
       "      <td>bundesliga</td>\n",
       "      <td>0.0</td>\n",
       "      <td>H</td>\n",
       "    </tr>\n",
       "    <tr>\n",
       "      <th>1</th>\n",
       "      <td>Dortmund</td>\n",
       "      <td>FC Koln</td>\n",
       "      <td>0.0</td>\n",
       "      <td>0.0</td>\n",
       "      <td>24.0</td>\n",
       "      <td>7.0</td>\n",
       "      <td>11.0</td>\n",
       "      <td>0.0</td>\n",
       "      <td>1.0</td>\n",
       "      <td>16.0</td>\n",
       "      <td>0.0</td>\n",
       "      <td>0.0</td>\n",
       "      <td>bundesliga</td>\n",
       "      <td>0.0</td>\n",
       "      <td>H</td>\n",
       "    </tr>\n",
       "    <tr>\n",
       "      <th>2</th>\n",
       "      <td>Hertha</td>\n",
       "      <td>Hannover</td>\n",
       "      <td>0.0</td>\n",
       "      <td>0.0</td>\n",
       "      <td>10.0</td>\n",
       "      <td>15.0</td>\n",
       "      <td>4.0</td>\n",
       "      <td>3.0</td>\n",
       "      <td>3.0</td>\n",
       "      <td>5.0</td>\n",
       "      <td>0.0</td>\n",
       "      <td>0.0</td>\n",
       "      <td>bundesliga</td>\n",
       "      <td>0.0</td>\n",
       "      <td>H</td>\n",
       "    </tr>\n",
       "    <tr>\n",
       "      <th>3</th>\n",
       "      <td>Hoffenheim</td>\n",
       "      <td>Bayern Munich</td>\n",
       "      <td>1.0</td>\n",
       "      <td>1.0</td>\n",
       "      <td>9.0</td>\n",
       "      <td>9.0</td>\n",
       "      <td>1.0</td>\n",
       "      <td>3.0</td>\n",
       "      <td>10.0</td>\n",
       "      <td>3.0</td>\n",
       "      <td>0.0</td>\n",
       "      <td>0.0</td>\n",
       "      <td>bundesliga</td>\n",
       "      <td>0.0</td>\n",
       "      <td>D</td>\n",
       "    </tr>\n",
       "    <tr>\n",
       "      <th>4</th>\n",
       "      <td>Mainz</td>\n",
       "      <td>Leverkusen</td>\n",
       "      <td>1.0</td>\n",
       "      <td>2.0</td>\n",
       "      <td>8.0</td>\n",
       "      <td>13.0</td>\n",
       "      <td>4.0</td>\n",
       "      <td>7.0</td>\n",
       "      <td>5.0</td>\n",
       "      <td>3.0</td>\n",
       "      <td>0.0</td>\n",
       "      <td>0.0</td>\n",
       "      <td>bundesliga</td>\n",
       "      <td>1.0</td>\n",
       "      <td>D</td>\n",
       "    </tr>\n",
       "  </tbody>\n",
       "</table>\n",
       "</div>"
      ],
      "text/plain": [
       "     HomeTeam       AwayTeam  HTHG  HTAG    HS    AS   HST  AST    AC    HC  \\\n",
       "0   Wolfsburg      Stuttgart   0.0   0.0  13.0  14.0   7.0  4.0   3.0   6.0   \n",
       "1    Dortmund        FC Koln   0.0   0.0  24.0   7.0  11.0  0.0   1.0  16.0   \n",
       "2      Hertha       Hannover   0.0   0.0  10.0  15.0   4.0  3.0   3.0   5.0   \n",
       "3  Hoffenheim  Bayern Munich   1.0   1.0   9.0   9.0   1.0  3.0  10.0   3.0   \n",
       "4       Mainz     Leverkusen   1.0   2.0   8.0  13.0   4.0  7.0   5.0   3.0   \n",
       "\n",
       "    HR   AR      league  GoalDifference FTR  \n",
       "0  0.0  0.0  bundesliga             0.0   H  \n",
       "1  0.0  0.0  bundesliga             0.0   H  \n",
       "2  0.0  0.0  bundesliga             0.0   H  \n",
       "3  0.0  0.0  bundesliga             0.0   D  \n",
       "4  0.0  0.0  bundesliga             1.0   D  "
      ]
     },
     "execution_count": 14,
     "metadata": {},
     "output_type": "execute_result"
    }
   ],
   "source": [
    "dataset.head()"
   ]
  },
  {
   "cell_type": "code",
   "execution_count": 15,
   "metadata": {},
   "outputs": [],
   "source": [
    "def label_fix(label):\n",
    "    \n",
    "    if label == \"H\":\n",
    "        \n",
    "        return 2\n",
    "    \n",
    "    elif label == \"D\":\n",
    "        \n",
    "        return 0\n",
    "    \n",
    "    else:\n",
    "        \n",
    "        return 1\n",
    "\n"
   ]
  },
  {
   "cell_type": "code",
   "execution_count": 16,
   "metadata": {},
   "outputs": [],
   "source": [
    "dataset[\"FTR\"] = dataset[\"FTR\"].apply(label_fix)"
   ]
  },
  {
   "cell_type": "code",
   "execution_count": 17,
   "metadata": {},
   "outputs": [
    {
     "data": {
      "text/html": [
       "<div>\n",
       "<style scoped>\n",
       "    .dataframe tbody tr th:only-of-type {\n",
       "        vertical-align: middle;\n",
       "    }\n",
       "\n",
       "    .dataframe tbody tr th {\n",
       "        vertical-align: top;\n",
       "    }\n",
       "\n",
       "    .dataframe thead th {\n",
       "        text-align: right;\n",
       "    }\n",
       "</style>\n",
       "<table border=\"1\" class=\"dataframe\">\n",
       "  <thead>\n",
       "    <tr style=\"text-align: right;\">\n",
       "      <th></th>\n",
       "      <th>HomeTeam</th>\n",
       "      <th>AwayTeam</th>\n",
       "      <th>HTHG</th>\n",
       "      <th>HTAG</th>\n",
       "      <th>HS</th>\n",
       "      <th>AS</th>\n",
       "      <th>HST</th>\n",
       "      <th>AST</th>\n",
       "      <th>AC</th>\n",
       "      <th>HC</th>\n",
       "      <th>HR</th>\n",
       "      <th>AR</th>\n",
       "      <th>league</th>\n",
       "      <th>GoalDifference</th>\n",
       "      <th>FTR</th>\n",
       "    </tr>\n",
       "  </thead>\n",
       "  <tbody>\n",
       "    <tr>\n",
       "      <th>0</th>\n",
       "      <td>Wolfsburg</td>\n",
       "      <td>Stuttgart</td>\n",
       "      <td>0.0</td>\n",
       "      <td>0.0</td>\n",
       "      <td>13.0</td>\n",
       "      <td>14.0</td>\n",
       "      <td>7.0</td>\n",
       "      <td>4.0</td>\n",
       "      <td>3.0</td>\n",
       "      <td>6.0</td>\n",
       "      <td>0.0</td>\n",
       "      <td>0.0</td>\n",
       "      <td>bundesliga</td>\n",
       "      <td>0.0</td>\n",
       "      <td>2</td>\n",
       "    </tr>\n",
       "    <tr>\n",
       "      <th>1</th>\n",
       "      <td>Dortmund</td>\n",
       "      <td>FC Koln</td>\n",
       "      <td>0.0</td>\n",
       "      <td>0.0</td>\n",
       "      <td>24.0</td>\n",
       "      <td>7.0</td>\n",
       "      <td>11.0</td>\n",
       "      <td>0.0</td>\n",
       "      <td>1.0</td>\n",
       "      <td>16.0</td>\n",
       "      <td>0.0</td>\n",
       "      <td>0.0</td>\n",
       "      <td>bundesliga</td>\n",
       "      <td>0.0</td>\n",
       "      <td>2</td>\n",
       "    </tr>\n",
       "    <tr>\n",
       "      <th>2</th>\n",
       "      <td>Hertha</td>\n",
       "      <td>Hannover</td>\n",
       "      <td>0.0</td>\n",
       "      <td>0.0</td>\n",
       "      <td>10.0</td>\n",
       "      <td>15.0</td>\n",
       "      <td>4.0</td>\n",
       "      <td>3.0</td>\n",
       "      <td>3.0</td>\n",
       "      <td>5.0</td>\n",
       "      <td>0.0</td>\n",
       "      <td>0.0</td>\n",
       "      <td>bundesliga</td>\n",
       "      <td>0.0</td>\n",
       "      <td>2</td>\n",
       "    </tr>\n",
       "    <tr>\n",
       "      <th>3</th>\n",
       "      <td>Hoffenheim</td>\n",
       "      <td>Bayern Munich</td>\n",
       "      <td>1.0</td>\n",
       "      <td>1.0</td>\n",
       "      <td>9.0</td>\n",
       "      <td>9.0</td>\n",
       "      <td>1.0</td>\n",
       "      <td>3.0</td>\n",
       "      <td>10.0</td>\n",
       "      <td>3.0</td>\n",
       "      <td>0.0</td>\n",
       "      <td>0.0</td>\n",
       "      <td>bundesliga</td>\n",
       "      <td>0.0</td>\n",
       "      <td>0</td>\n",
       "    </tr>\n",
       "    <tr>\n",
       "      <th>4</th>\n",
       "      <td>Mainz</td>\n",
       "      <td>Leverkusen</td>\n",
       "      <td>1.0</td>\n",
       "      <td>2.0</td>\n",
       "      <td>8.0</td>\n",
       "      <td>13.0</td>\n",
       "      <td>4.0</td>\n",
       "      <td>7.0</td>\n",
       "      <td>5.0</td>\n",
       "      <td>3.0</td>\n",
       "      <td>0.0</td>\n",
       "      <td>0.0</td>\n",
       "      <td>bundesliga</td>\n",
       "      <td>1.0</td>\n",
       "      <td>0</td>\n",
       "    </tr>\n",
       "  </tbody>\n",
       "</table>\n",
       "</div>"
      ],
      "text/plain": [
       "     HomeTeam       AwayTeam  HTHG  HTAG    HS    AS   HST  AST    AC    HC  \\\n",
       "0   Wolfsburg      Stuttgart   0.0   0.0  13.0  14.0   7.0  4.0   3.0   6.0   \n",
       "1    Dortmund        FC Koln   0.0   0.0  24.0   7.0  11.0  0.0   1.0  16.0   \n",
       "2      Hertha       Hannover   0.0   0.0  10.0  15.0   4.0  3.0   3.0   5.0   \n",
       "3  Hoffenheim  Bayern Munich   1.0   1.0   9.0   9.0   1.0  3.0  10.0   3.0   \n",
       "4       Mainz     Leverkusen   1.0   2.0   8.0  13.0   4.0  7.0   5.0   3.0   \n",
       "\n",
       "    HR   AR      league  GoalDifference  FTR  \n",
       "0  0.0  0.0  bundesliga             0.0    2  \n",
       "1  0.0  0.0  bundesliga             0.0    2  \n",
       "2  0.0  0.0  bundesliga             0.0    2  \n",
       "3  0.0  0.0  bundesliga             0.0    0  \n",
       "4  0.0  0.0  bundesliga             1.0    0  "
      ]
     },
     "execution_count": 17,
     "metadata": {},
     "output_type": "execute_result"
    }
   ],
   "source": [
    "dataset.head()"
   ]
  },
  {
   "cell_type": "code",
   "execution_count": 18,
   "metadata": {},
   "outputs": [],
   "source": [
    "## Lets convert into X_data and Y_data\n",
    "\n",
    "unscaled_X_data = dataset.drop(\"FTR\" , axis = 1)\n",
    "y_labels = dataset[\"FTR\"]"
   ]
  },
  {
   "cell_type": "markdown",
   "metadata": {},
   "source": [
    "## Here I did encoding of categorical variables in both Label Encoding and One Hot Encoding methods.\n",
    "\n",
    "## In the TensorFlow Model I will be using OneHotEncoding only."
   ]
  },
  {
   "cell_type": "code",
   "execution_count": 19,
   "metadata": {},
   "outputs": [
    {
     "name": "stderr",
     "output_type": "stream",
     "text": [
      "/anaconda3/lib/python3.7/site-packages/ipykernel_launcher.py:30: FutureWarning: Method .as_matrix will be removed in a future version. Use .values instead.\n"
     ]
    }
   ],
   "source": [
    "## One of the most difficult task in Data Preprocessing is handling Categorical data (data which is not numerical).\n",
    "\n",
    "## We will try both Label Encoding and One Hot Encoding\n",
    "\n",
    "\n",
    "\n",
    "## Label Encoding\n",
    "from sklearn.preprocessing import LabelEncoder\n",
    "\n",
    "labelEncoder = LabelEncoder()\n",
    "\n",
    "le_X_data_df = unscaled_X_data.copy()\n",
    "le_X_data_df[\"HomeTeam\"] = labelEncoder.fit_transform(le_X_data_df[\"HomeTeam\"])\n",
    "le_X_data_df[\"AwayTeam\"] = labelEncoder.fit_transform(le_X_data_df[\"AwayTeam\"])\n",
    "le_X_data_df[\"league\"] = labelEncoder.fit_transform(le_X_data_df[\"league\"])\n",
    "\n",
    "\n",
    "## One Hot Encoding\n",
    "from sklearn.preprocessing  import OneHotEncoder\n",
    "\n",
    "oneHotEncoder = OneHotEncoder()\n",
    "\n",
    "ohe_X_data_df = unscaled_X_data.copy()\n",
    "ohe_X_data_df = pd.get_dummies(ohe_X_data_df , columns = [\"HomeTeam\" , \"AwayTeam\" , \"league\"] , \n",
    "                                prefix = [\"HomeTeam\" , \"AwayTeam\" , \"league\"])\n",
    "\n",
    "ohe_X_data_array = unscaled_X_data.copy()\n",
    "\n",
    "\n",
    "ohe_X_data_array = pd.get_dummies(ohe_X_data_array , columns = [\"HomeTeam\" , \"AwayTeam\" , \"league\"]).as_matrix()\n",
    "\n"
   ]
  },
  {
   "cell_type": "code",
   "execution_count": 20,
   "metadata": {},
   "outputs": [],
   "source": [
    "# ohe_X_data_array = unscaled_X_data.copy()\n",
    "\n",
    "# columns_to_encode = [\"HomeTeam\" , \"AwayTeam\" , \"league\"]\n",
    "# encoded_columns = oneHotEncoder.fit_transform(ohe_X_data_array[columns_to_encode])\n",
    "\n"
   ]
  },
  {
   "cell_type": "code",
   "execution_count": 21,
   "metadata": {},
   "outputs": [],
   "source": [
    "# ohe_X_data_array = unscaled_X_data.copy()\n",
    "\n",
    "# columns_to_encode = [\"HomeTeam\" , \"AwayTeam\" , \"league\"]\n",
    "\n",
    "# numerical_columns = ohe_X_data_array[[\"HTHG\" , \"HTAG\" , \"HS\" , \"AS\" , \"HST\" , \"AST\" , \n",
    "#                    \"AC\" , \"HC\" , \"HR\" , \"AR\" , \"GoalDifference\"]]\n",
    "\n",
    "# encoded_columns = oneHotEncoder.fit_transform(ohe_X_data_array[columns_to_encode])\n",
    "# processed_data = np.concatenate([numerical_columns, encoded_columns], axis=1)\n",
    "\n"
   ]
  },
  {
   "cell_type": "code",
   "execution_count": 22,
   "metadata": {},
   "outputs": [
    {
     "name": "stdout",
     "output_type": "stream",
     "text": [
      "Shape of le_dataset_df :  (12780, 14)\n",
      "Shape of ohe_dataset_df :  (12780, 334)\n",
      "Shape of ohe_dataset_arrayy :  (12780, 334)\n"
     ]
    }
   ],
   "source": [
    "## Lets see the shapes of our dataset.\n",
    "\n",
    "print(\"Shape of le_dataset_df : \" , le_X_data_df.shape)\n",
    "print(\"Shape of ohe_dataset_df : \" , ohe_X_data_df.shape)\n",
    "print(\"Shape of ohe_dataset_arrayy : \" , ohe_X_data_array.shape)"
   ]
  },
  {
   "cell_type": "code",
   "execution_count": 23,
   "metadata": {
    "scrolled": true
   },
   "outputs": [
    {
     "data": {
      "text/plain": [
       "HTHG                       0.0\n",
       "HTAG                       0.0\n",
       "HS                        24.0\n",
       "AS                         7.0\n",
       "HST                       11.0\n",
       "AST                        0.0\n",
       "AC                         1.0\n",
       "HC                        16.0\n",
       "HR                         0.0\n",
       "AR                         0.0\n",
       "GoalDifference             0.0\n",
       "HomeTeam_Ajaccio           0.0\n",
       "HomeTeam_Ajaccio GFCO      0.0\n",
       "HomeTeam_Alaves            0.0\n",
       "HomeTeam_Almeria           0.0\n",
       "HomeTeam_Angers            0.0\n",
       "HomeTeam_Arles             0.0\n",
       "HomeTeam_Arsenal           0.0\n",
       "HomeTeam_Aston Villa       0.0\n",
       "HomeTeam_Atalanta          0.0\n",
       "HomeTeam_Ath Bilbao        0.0\n",
       "HomeTeam_Ath Madrid        0.0\n",
       "HomeTeam_Augsburg          0.0\n",
       "HomeTeam_Auxerre           0.0\n",
       "HomeTeam_Barcelona         0.0\n",
       "HomeTeam_Bari              0.0\n",
       "HomeTeam_Bastia            0.0\n",
       "HomeTeam_Bayern Munich     0.0\n",
       "HomeTeam_Betis             0.0\n",
       "HomeTeam_Birmingham        0.0\n",
       "                          ... \n",
       "AwayTeam_Stoke             0.0\n",
       "AwayTeam_Stuttgart         0.0\n",
       "AwayTeam_Sunderland        0.0\n",
       "AwayTeam_Swansea           0.0\n",
       "AwayTeam_Tenerife          0.0\n",
       "AwayTeam_Torino            0.0\n",
       "AwayTeam_Tottenham         0.0\n",
       "AwayTeam_Toulouse          0.0\n",
       "AwayTeam_Troyes            0.0\n",
       "AwayTeam_Udinese           0.0\n",
       "AwayTeam_Valencia          0.0\n",
       "AwayTeam_Valenciennes      0.0\n",
       "AwayTeam_Valladolid        0.0\n",
       "AwayTeam_Vallecano         0.0\n",
       "AwayTeam_Verona            0.0\n",
       "AwayTeam_Villarreal        0.0\n",
       "AwayTeam_Watford           0.0\n",
       "AwayTeam_Werder Bremen     0.0\n",
       "AwayTeam_West Brom         0.0\n",
       "AwayTeam_West Ham          0.0\n",
       "AwayTeam_Wigan             0.0\n",
       "AwayTeam_Wolfsburg         0.0\n",
       "AwayTeam_Wolves            0.0\n",
       "AwayTeam_Xerez             0.0\n",
       "AwayTeam_Zaragoza          0.0\n",
       "league_bundesliga          1.0\n",
       "league_la-liga             0.0\n",
       "league_ligue-1             0.0\n",
       "league_premier-league      0.0\n",
       "league_serie-a             0.0\n",
       "Name: 1, Length: 334, dtype: float64"
      ]
     },
     "execution_count": 23,
     "metadata": {},
     "output_type": "execute_result"
    }
   ],
   "source": [
    "ohe_X_data_df.iloc[1 , :]"
   ]
  },
  {
   "cell_type": "code",
   "execution_count": 24,
   "metadata": {},
   "outputs": [],
   "source": [
    "## Saving the Label Encoded and One Hot Encoded datasets to machine as CSV Files\n",
    "\n",
    "le_X_data_df.to_csv('/Users/jaskirat/Desktop/Numerical_Data_le.csv', header = False)\n",
    "ohe_X_data_df.to_csv('/Users/jaskirat/Desktop/Numerical_Data_ohe.csv', header = False)"
   ]
  },
  {
   "cell_type": "code",
   "execution_count": 25,
   "metadata": {},
   "outputs": [],
   "source": [
    "## Loading that CSV files in numpy ndarray format\n",
    "\n",
    "numerical_input_data_le = np.loadtxt('/Users/jaskirat/Desktop/Numerical_Data_le.csv' , delimiter = ',').astype(np.float32)\n",
    "numerical_input_data_ohe = np.loadtxt('/Users/jaskirat/Desktop/Numerical_Data_ohe.csv' , delimiter = ',').astype(np.float32)"
   ]
  },
  {
   "cell_type": "code",
   "execution_count": 26,
   "metadata": {},
   "outputs": [],
   "source": [
    "unscaled_inputs_all_le = numerical_input_data_le[:,1:]\n",
    "unscaled_inputs_all_ohe = numerical_input_data_ohe[:,1:]"
   ]
  },
  {
   "cell_type": "code",
   "execution_count": 27,
   "metadata": {},
   "outputs": [
    {
     "data": {
      "text/plain": [
       "numpy.ndarray"
      ]
     },
     "execution_count": 27,
     "metadata": {},
     "output_type": "execute_result"
    }
   ],
   "source": [
    "type(unscaled_inputs_all_le)"
   ]
  },
  {
   "cell_type": "code",
   "execution_count": 28,
   "metadata": {},
   "outputs": [
    {
     "data": {
      "text/plain": [
       "numpy.ndarray"
      ]
     },
     "execution_count": 28,
     "metadata": {},
     "output_type": "execute_result"
    }
   ],
   "source": [
    "## Lets convert y_labels from pandas series to numpy array \n",
    "\n",
    "y_labels = y_labels.values\n",
    "type(y_labels)"
   ]
  },
  {
   "cell_type": "markdown",
   "metadata": {},
   "source": [
    "## Preprocessing our data."
   ]
  },
  {
   "cell_type": "code",
   "execution_count": 29,
   "metadata": {},
   "outputs": [
    {
     "name": "stderr",
     "output_type": "stream",
     "text": [
      "/anaconda3/lib/python3.7/site-packages/sklearn/preprocessing/data.py:176: UserWarning: Numerical issues were encountered when centering the data and might not be solved. Dataset may contain too large values. You may need to prescale your features.\n",
      "  warnings.warn(\"Numerical issues were encountered \"\n",
      "/anaconda3/lib/python3.7/site-packages/sklearn/preprocessing/data.py:193: UserWarning: Numerical issues were encountered when scaling the data and might not be solved. The standard deviation of the data is probably very close to 0. \n",
      "  warnings.warn(\"Numerical issues were encountered \"\n",
      "/anaconda3/lib/python3.7/site-packages/sklearn/preprocessing/data.py:176: UserWarning: Numerical issues were encountered when centering the data and might not be solved. Dataset may contain too large values. You may need to prescale your features.\n",
      "  warnings.warn(\"Numerical issues were encountered \"\n",
      "/anaconda3/lib/python3.7/site-packages/sklearn/preprocessing/data.py:193: UserWarning: Numerical issues were encountered when scaling the data and might not be solved. The standard deviation of the data is probably very close to 0. \n",
      "  warnings.warn(\"Numerical issues were encountered \"\n"
     ]
    }
   ],
   "source": [
    "## Lets scale out input array\n",
    "\n",
    "from sklearn import preprocessing\n",
    "\n",
    "scaled_inputs_le = preprocessing.scale(unscaled_inputs_all_le)\n",
    "scaled_inputs_ohe = preprocessing.scale(unscaled_inputs_all_ohe)\n",
    "\n",
    "\n"
   ]
  },
  {
   "cell_type": "code",
   "execution_count": 30,
   "metadata": {},
   "outputs": [
    {
     "data": {
      "text/plain": [
       "array([ 1.6062824 ,  1.1611217 , -0.8295379 , -0.69307387, -0.20521516,\n",
       "        0.6108474 ,  0.6027313 , -0.07106111, -0.58016485,  0.06934791,\n",
       "       -0.3158928 , -0.37080377, -1.504647  , -0.95171595], dtype=float32)"
      ]
     },
     "execution_count": 30,
     "metadata": {},
     "output_type": "execute_result"
    }
   ],
   "source": [
    "scaled_inputs_le[0]"
   ]
  },
  {
   "cell_type": "markdown",
   "metadata": {},
   "source": [
    "## Here I am shuffling our data"
   ]
  },
  {
   "cell_type": "code",
   "execution_count": 31,
   "metadata": {},
   "outputs": [],
   "source": [
    "## Lets shuffle out data\n",
    "\n",
    "shuffled_indices = np.arange(scaled_inputs_le.shape[0])\n",
    "np.random.shuffle(shuffled_indices)\n",
    "\n",
    "shuffled_inputs_le = scaled_inputs_le[shuffled_indices]\n",
    "shuffled_targets = y_labels[shuffled_indices]\n",
    "\n",
    "\n",
    "shuffled_indices = np.arange(scaled_inputs_ohe.shape[0])\n",
    "np.random.shuffle(shuffled_indices)\n",
    "\n",
    "shuffled_inputs_ohe = scaled_inputs_ohe[shuffled_indices]\n",
    "shuffled_targets = y_labels[shuffled_indices]"
   ]
  },
  {
   "cell_type": "markdown",
   "metadata": {},
   "source": [
    "## Splitting Our Dataset into Train set , Validate set and Test set.\n",
    "## The ratio is 80:10:10"
   ]
  },
  {
   "cell_type": "code",
   "execution_count": 32,
   "metadata": {},
   "outputs": [],
   "source": [
    "## SPLIT the dataset into TRAIN , TEST AND VALID Datasets\n",
    "\n",
    "samples_count = shuffled_inputs_le.shape[0]\n",
    "train_samples_count = int(0.8 * samples_count)\n",
    "validation_samples_count = int(0.1 * samples_count)\n",
    "test_samples_count = samples_count - train_samples_count - validation_samples_count"
   ]
  },
  {
   "cell_type": "code",
   "execution_count": 33,
   "metadata": {},
   "outputs": [
    {
     "name": "stdout",
     "output_type": "stream",
     "text": [
      "10224 1278 1278\n"
     ]
    }
   ],
   "source": [
    "print(train_samples_count , test_samples_count , validation_samples_count)"
   ]
  },
  {
   "cell_type": "code",
   "execution_count": 34,
   "metadata": {},
   "outputs": [],
   "source": [
    "train_inputs_le = shuffled_inputs_le[:train_samples_count]\n",
    "train_targets = shuffled_targets[:train_samples_count]\n",
    "\n",
    "validation_inputs_le = shuffled_inputs_le[train_samples_count : train_samples_count + validation_samples_count]\n",
    "validation_targets = shuffled_targets[train_samples_count : train_samples_count + validation_samples_count]\n",
    "\n",
    "test_inputs_le = shuffled_inputs_le[train_samples_count + validation_samples_count : ]\n",
    "test_targets = shuffled_targets[train_samples_count + validation_samples_count : ]\n",
    "\n",
    "\n",
    "\n",
    "train_inputs_ohe = shuffled_inputs_ohe[:train_samples_count]\n",
    "train_targets = shuffled_targets[:train_samples_count]\n",
    "\n",
    "validation_inputs_ohe = shuffled_inputs_ohe[train_samples_count : train_samples_count + validation_samples_count]\n",
    "validation_targets = shuffled_targets[train_samples_count : train_samples_count + validation_samples_count]\n",
    "\n",
    "test_inputs_ohe = shuffled_inputs_ohe[train_samples_count + validation_samples_count : ]\n",
    "test_targets = shuffled_targets[train_samples_count + validation_samples_count : ]"
   ]
  },
  {
   "cell_type": "markdown",
   "metadata": {},
   "source": [
    "## Here I am saving the dataset in .npz format"
   ]
  },
  {
   "cell_type": "code",
   "execution_count": 35,
   "metadata": {},
   "outputs": [],
   "source": [
    "### SAVE THE DATASET IN NPZ FORMAT\n",
    "\n",
    "np.savez('SAHAJ_MODEL_TRAIN_LE' , inputs = train_inputs_le , targets = train_targets)\n",
    "np.savez('SAHAJ_MODEL_VALIDATION_LE' , inputs = validation_inputs_le , targets = validation_targets)\n",
    "np.savez('SAHAJ_MODEL_TEST_LE' , inputs = test_inputs_le , targets = test_targets)\n",
    "\n",
    "### SAVE THE DATASET IN NPZ FORMAT\n",
    "\n",
    "np.savez('SAHAJ_MODEL_TRAIN_OHE' , inputs = train_inputs_ohe , targets = train_targets)\n",
    "np.savez('SAHAJ_MODEL_VALIDATION_OHE' , inputs = validation_inputs_ohe , targets = validation_targets)\n",
    "np.savez('SAHAJ_MODEL_TEST_OHE' , inputs = test_inputs_ohe , targets = test_targets)"
   ]
  },
  {
   "cell_type": "markdown",
   "metadata": {},
   "source": [
    "## This class is responsible is for getting next batch of data."
   ]
  },
  {
   "cell_type": "code",
   "execution_count": 36,
   "metadata": {},
   "outputs": [],
   "source": [
    "## This class is responsible for getting next batch of data\n",
    "\n",
    "\n",
    "class Mir_Model_Reader():\n",
    "    \n",
    "    def __init__(self , dataset , batch_size = None):\n",
    "    \n",
    "        npz = np.load('SAHAJ_MODEL_{0}.npz'.format(dataset))\n",
    "        self.inputs , self.targets = npz['inputs'].astype(np.float) , npz['targets'].astype(np.int)\n",
    "\n",
    "        if batch_size is None:\n",
    "            self.batch_size = self.inputs.shape[0]\n",
    "        else:\n",
    "            self.batch_size = batch_size\n",
    "        \n",
    "        self.curr_batch = 0\n",
    "        self.batch_count = self.inputs.shape[0] // self.batch_size\n",
    "    \n",
    "    \n",
    "    def __next__(self):\n",
    "        \n",
    "        if self.curr_batch >= self.batch_count:\n",
    "            self.curr_batch = 0\n",
    "            raise StopIteration()\n",
    "\n",
    "        batch_slice =slice(self.curr_batch * self.batch_size , (self.curr_batch + 1) * self.batch_size)\n",
    "        input_batch = self.inputs[batch_slice]\n",
    "        target_batch = self.targets[batch_slice]\n",
    "        self.curr_batch += 1\n",
    "        \n",
    "        classes_num = 3\n",
    "        targets_one_hot = np.zeros((target_batch.shape[0] , classes_num))\n",
    "        targets_one_hot[range(target_batch.shape[0]) , target_batch] = 1\n",
    "#         print(targets_one_hot)\n",
    "        \n",
    "        return input_batch , targets_one_hot\n",
    "    \n",
    "    \n",
    "    def __iter__(self):\n",
    "        \n",
    "        return self"
   ]
  },
  {
   "cell_type": "code",
   "execution_count": 37,
   "metadata": {},
   "outputs": [
    {
     "name": "stdout",
     "output_type": "stream",
     "text": [
      "(10224, 334)\n",
      "(10224, 14)\n"
     ]
    }
   ],
   "source": [
    "print(train_inputs_ohe.shape)\n",
    "print(train_inputs_le.shape)"
   ]
  },
  {
   "cell_type": "markdown",
   "metadata": {},
   "source": [
    "## Initializing HyperParameters\n",
    "\n",
    "### Here values that I am initializing are:\n",
    "\n",
    "### Hidden Layer size = 700 neurons.\n",
    "### Number of Hidden Layers are 3, total 5 layers including Input and Output Layer.\n",
    "### I am using Relu(Rectified Linear Unit) as my activation function.\n",
    "### Learning rate is pretty small = 0.00001.\n",
    "### Batch size = 1 as it is similar to Stochastic Gradient Descent.\n",
    "### For Optimizer I am using Adam Optimizer."
   ]
  },
  {
   "cell_type": "code",
   "execution_count": 38,
   "metadata": {},
   "outputs": [],
   "source": [
    "input_size = 334\n",
    "output_size = 3\n",
    "hidden_layer_size = 700"
   ]
  },
  {
   "cell_type": "code",
   "execution_count": 39,
   "metadata": {},
   "outputs": [],
   "source": [
    "import tensorflow as tf\n",
    "\n",
    "tf.reset_default_graph()"
   ]
  },
  {
   "cell_type": "code",
   "execution_count": 40,
   "metadata": {},
   "outputs": [],
   "source": [
    "inputs = tf.placeholder(tf.float32 , [None , input_size])\n",
    "targets = tf.placeholder(tf.int32 , [None , output_size])"
   ]
  },
  {
   "cell_type": "code",
   "execution_count": 41,
   "metadata": {},
   "outputs": [
    {
     "name": "stdout",
     "output_type": "stream",
     "text": [
      "WARNING:tensorflow:From /anaconda3/lib/python3.7/site-packages/tensorflow/python/framework/op_def_library.py:263: colocate_with (from tensorflow.python.framework.ops) is deprecated and will be removed in a future version.\n",
      "Instructions for updating:\n",
      "Colocations handled automatically by placer.\n",
      "WARNING:tensorflow:From <ipython-input-41-6fb20b1973f2>:36: softmax_cross_entropy_with_logits (from tensorflow.python.ops.nn_ops) is deprecated and will be removed in a future version.\n",
      "Instructions for updating:\n",
      "\n",
      "Future major versions of TensorFlow will allow gradients to flow\n",
      "into the labels input on backprop by default.\n",
      "\n",
      "See `tf.nn.softmax_cross_entropy_with_logits_v2`.\n",
      "\n"
     ]
    }
   ],
   "source": [
    "weights_1 = tf.get_variable(\"weights_1\" , [input_size , hidden_layer_size])\n",
    "biases_1 = tf.get_variable(\"biases_1\" , [hidden_layer_size])\n",
    "# tf.cast(inputs , tf.float32)\n",
    "# tf.cast(weights_1 , tf.float32)\n",
    "output1 = tf.nn.relu(tf.matmul(inputs , weights_1) + biases_1)\n",
    "\n",
    "weights_2 = tf.get_variable(\"weights_2\" , [hidden_layer_size , hidden_layer_size])\n",
    "biases_2 = tf.get_variable(\"biases_2\" , [hidden_layer_size])\n",
    "# tf.cast(output1 , tf.float32)\n",
    "# tf.cast(weights_2 , tf.float32)\n",
    "output2 = tf.nn.relu(tf.matmul(output1 , weights_2) + biases_2)\n",
    "\n",
    "weights_3 = tf.get_variable(\"weights_3\" , [hidden_layer_size , hidden_layer_size])\n",
    "biases_3 = tf.get_variable(\"biases_3\" , [hidden_layer_size])\n",
    "# tf.cast(output2 , tf.float32)\n",
    "# tf.cast(weights_3 , tf.float32)\n",
    "output3 = tf.nn.relu(tf.matmul(output2 , weights_3) + biases_3)\n",
    "\n",
    "weights_4 = tf.get_variable(\"weights_4\" , [hidden_layer_size , hidden_layer_size])\n",
    "biases_4 = tf.get_variable(\"biases_4\" , [hidden_layer_size])\n",
    "# tf.cast(output3 , tf.float32)\n",
    "# tf.cast(weights_4 , tf.float32)\n",
    "output4 = tf.nn.relu(tf.matmul(output3 , weights_4) + biases_4)\n",
    "\n",
    "\n",
    "weights_5 = tf.get_variable(\"weights_5\" , [hidden_layer_size , output_size])\n",
    "biases_5 = tf.get_variable(\"biases_5\" , [output_size])\n",
    "\n",
    "# tf.cast(output4 , tf.float32)\n",
    "# tf.cast(weights_5 , tf.float32)\n",
    "\n",
    "outputs = tf.matmul(output4 , weights_5) + biases_5\n",
    "# tf.cast(outputs , tf.float32)\n",
    "# tf.cast(targets , tf.float32)\n",
    "\n",
    "loss = tf.nn.softmax_cross_entropy_with_logits(logits = outputs , labels = targets)\n",
    "mean_loss = tf.reduce_mean(loss)"
   ]
  },
  {
   "cell_type": "code",
   "execution_count": 42,
   "metadata": {},
   "outputs": [],
   "source": [
    "optimize = tf.train.AdamOptimizer(learning_rate = 0.00001).minimize(mean_loss)\n",
    "out_equal_targets = tf.equal(tf.argmax(outputs , 1) , tf.argmax(targets,1))\n",
    "accuracy = tf.reduce_mean(tf.cast(out_equal_targets , tf.float32))"
   ]
  },
  {
   "cell_type": "code",
   "execution_count": 43,
   "metadata": {},
   "outputs": [],
   "source": [
    "sess = tf.InteractiveSession()\n",
    "initializer = tf.global_variables_initializer()\n",
    "sess.run(initializer)"
   ]
  },
  {
   "cell_type": "code",
   "execution_count": 44,
   "metadata": {},
   "outputs": [],
   "source": [
    "batch_size = 1\n",
    "max_epochs = 200\n",
    "prev_validation_loss = 9999999.0"
   ]
  },
  {
   "cell_type": "markdown",
   "metadata": {},
   "source": [
    "## To avoid Overfitting:\n",
    "## Here the logic is that as soon as the current Validation loss is greater than the previous Validation loss, it will stop Training."
   ]
  },
  {
   "cell_type": "code",
   "execution_count": 45,
   "metadata": {},
   "outputs": [
    {
     "name": "stdout",
     "output_type": "stream",
     "text": [
      "Epoch1.Training Loss :  0.916.Validation Loss:0.844.Validation Accuracy:59.23%\n",
      "Epoch2.Training Loss :  0.742.Validation Loss:0.825.Validation Accuracy:60.41%\n",
      "Epoch3.Training Loss :  0.679.Validation Loss:0.835.Validation Accuracy:61.03%\n",
      "\n",
      "END OF TRAINING\n"
     ]
    }
   ],
   "source": [
    "train_data = Mir_Model_Reader('TRAIN_OHE' , batch_size)\n",
    "validation_data = Mir_Model_Reader('VALIDATION_OHE')\n",
    "\n",
    "for epoch_counter in range(max_epochs):\n",
    "    curr_epoch_loss = 0.\n",
    "    for input_batch , target_batch in train_data:\n",
    "        _,batch_loss = sess.run([optimize , mean_loss] , \n",
    "                               feed_dict = {inputs : input_batch , targets : target_batch})#.reshape(250 , 1)})\n",
    "        curr_epoch_loss += batch_loss\n",
    "    curr_epoch_loss /= train_data.batch_count\n",
    "    \n",
    "    validation_loss = 0.\n",
    "    validation_accuracy = 0.\n",
    "    \n",
    "    for input_batch , target_batch in validation_data:\n",
    "        validation_loss , validation_accuracy = sess.run([mean_loss , accuracy] , \n",
    "                                                        feed_dict = {inputs : input_batch , targets : target_batch})#.reshape(2205 , 1)})\n",
    "        \n",
    "    print('Epoch' + str(epoch_counter + 1) + '.Training Loss : '+' {0:.3f}'.format(curr_epoch_loss) + '.Validation Loss:'+'{0:.3f}'.format(validation_loss) + '.Validation Accuracy:'+'{0:.2f}'.format(validation_accuracy * 100.) + '%')\n",
    "    \n",
    "    if validation_loss > prev_validation_loss:\n",
    "        break\n",
    "        \n",
    "    prev_validation_loss = validation_loss\n",
    "print(\"\\nEND OF TRAINING\")\n",
    "\n"
   ]
  },
  {
   "cell_type": "markdown",
   "metadata": {},
   "source": [
    "## Testing the model with Test data."
   ]
  },
  {
   "cell_type": "code",
   "execution_count": 46,
   "metadata": {},
   "outputs": [
    {
     "name": "stdout",
     "output_type": "stream",
     "text": [
      "TEST ACCURACY : 62.91%\n"
     ]
    }
   ],
   "source": [
    "### TEST THE MODEL\n",
    "\n",
    "test_data = Mir_Model_Reader('TEST_OHE')\n",
    "\n",
    "# for input_batch , target_batch in test_data:\n",
    "#     test_accuracy = sess.run([accuracy] , feed_dict = {inputs : input_batch , targets : target_batch})\n",
    "\n",
    "# test_accuracy_percent = test_accuracy[0] * 100\n",
    "\n",
    "# print('Test Accuracy : ' + '{0:.2f}'.format(test_accuracy_percent) + '%' )\n",
    "\n",
    "for input_batch , target_batch in test_data:\n",
    "    test_accuracy = sess.run([accuracy] , feed_dict = {inputs : input_batch , targets : target_batch})#.reshape(2207 , 1)})\n",
    "\n",
    "test_accuracy_percent = test_accuracy[0] * 100\n",
    "\n",
    "print(\"TEST ACCURACY : \" + \"{0:.2f}\".format(test_accuracy_percent) + \"%\")\n"
   ]
  },
  {
   "cell_type": "markdown",
   "metadata": {},
   "source": [
    "## Checking model predictions "
   ]
  },
  {
   "cell_type": "code",
   "execution_count": 47,
   "metadata": {},
   "outputs": [
    {
     "name": "stdout",
     "output_type": "stream",
     "text": [
      "[[ 0.5845328   0.71332866 -0.8107593 ]\n",
      " [ 0.17708553 -0.6569481   1.0927639 ]\n",
      " [-0.38806647 -2.2611864   3.0816445 ]\n",
      " ...\n",
      " [-0.23687325  1.349271   -1.5381019 ]\n",
      " [-0.05811357 -0.668067    0.9601168 ]\n",
      " [ 0.8398417  -0.7201295   0.7774839 ]]\n"
     ]
    }
   ],
   "source": [
    "test_data = Mir_Model_Reader('TEST_OHE')\n",
    "# listt = []\n",
    "for input_batch , target_batch in test_data:\n",
    "    feed_dict = {inputs : input_batch}\n",
    "    predictions = outputs.eval(feed_dict)\n",
    "    print(predictions)"
   ]
  },
  {
   "cell_type": "markdown",
   "metadata": {},
   "source": [
    "### I am using softmax as my activation function on output layer which gives us the probability of eacch class that the model has predicted it can be.\n",
    "\n",
    "### Now to get the value of maximum probability I am using argmax function."
   ]
  },
  {
   "cell_type": "code",
   "execution_count": 48,
   "metadata": {},
   "outputs": [],
   "source": [
    "test_data = Mir_Model_Reader('TEST_OHE')\n",
    "for input_batch , target_batch in test_data:\n",
    "    classification = sess.run(tf.argmax(outputs, 1), feed_dict={inputs: input_batch})\n",
    "    test_set = pd.DataFrame(target_batch)\n",
    "    predictions = pd.DataFrame(classification)"
   ]
  },
  {
   "cell_type": "code",
   "execution_count": 49,
   "metadata": {},
   "outputs": [
    {
     "data": {
      "text/plain": [
       "array([1, 2, 2, ..., 1, 2, 0])"
      ]
     },
     "execution_count": 49,
     "metadata": {},
     "output_type": "execute_result"
    }
   ],
   "source": [
    "classification"
   ]
  },
  {
   "cell_type": "code",
   "execution_count": null,
   "metadata": {},
   "outputs": [],
   "source": []
  }
 ],
 "metadata": {
  "kernelspec": {
   "display_name": "Python 3",
   "language": "python",
   "name": "python3"
  },
  "language_info": {
   "codemirror_mode": {
    "name": "ipython",
    "version": 3
   },
   "file_extension": ".py",
   "mimetype": "text/x-python",
   "name": "python",
   "nbconvert_exporter": "python",
   "pygments_lexer": "ipython3",
   "version": "3.8.3"
  }
 },
 "nbformat": 4,
 "nbformat_minor": 4
}
